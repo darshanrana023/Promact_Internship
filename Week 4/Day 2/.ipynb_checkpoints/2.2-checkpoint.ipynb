{
 "cells": [
  {
   "cell_type": "markdown",
   "id": "804c4223",
   "metadata": {},
   "source": [
    "# 2.2 Build a simple neural network using Keras for a regression problem."
   ]
  },
  {
   "cell_type": "code",
   "execution_count": 1,
   "id": "4522bf94",
   "metadata": {},
   "outputs": [],
   "source": [
    "import tensorflow as tf\n",
    "from tensorflow.keras.models import Sequential\n",
    "from tensorflow.keras.layers import Dense\n"
   ]
  },
  {
   "cell_type": "code",
   "execution_count": 2,
   "id": "5e6e75e5",
   "metadata": {},
   "outputs": [],
   "source": [
    "import numpy as np\n",
    "\n",
    "# Generate synthetic data\n",
    "np.random.seed(0)\n",
    "X = np.random.rand(100, 1)  # Input features\n",
    "y = 2 * X + 1 + 0.1 * np.random.randn(100, 1)  # True output values with some noise\n"
   ]
  },
  {
   "cell_type": "code",
   "execution_count": 3,
   "id": "ba43a2f0",
   "metadata": {},
   "outputs": [],
   "source": [
    "model = Sequential([\n",
    "    Dense(1, input_shape=(1,))\n",
    "])\n"
   ]
  },
  {
   "cell_type": "code",
   "execution_count": 4,
   "id": "72f41024",
   "metadata": {},
   "outputs": [],
   "source": [
    "model.compile(optimizer='sgd', loss='mean_squared_error')\n"
   ]
  },
  {
   "cell_type": "code",
   "execution_count": 5,
   "id": "f8b3aee1",
   "metadata": {},
   "outputs": [
    {
     "name": "stdout",
     "output_type": "stream",
     "text": [
      "Epoch 1/50\n",
      "4/4 [==============================] - 0s 3ms/step - loss: 1.7642\n",
      "Epoch 2/50\n",
      "4/4 [==============================] - 0s 0s/step - loss: 1.4446\n",
      "Epoch 3/50\n",
      "4/4 [==============================] - 0s 1ms/step - loss: 1.1809\n",
      "Epoch 4/50\n",
      "4/4 [==============================] - 0s 3ms/step - loss: 0.9641\n",
      "Epoch 5/50\n",
      "4/4 [==============================] - 0s 0s/step - loss: 0.7896\n",
      "Epoch 6/50\n",
      "4/4 [==============================] - 0s 6ms/step - loss: 0.6537\n",
      "Epoch 7/50\n",
      "4/4 [==============================] - 0s 6ms/step - loss: 0.5368\n",
      "Epoch 8/50\n",
      "4/4 [==============================] - 0s 522us/step - loss: 0.4432\n",
      "Epoch 9/50\n",
      "4/4 [==============================] - 0s 4ms/step - loss: 0.3610\n",
      "Epoch 10/50\n",
      "4/4 [==============================] - 0s 0s/step - loss: 0.2947\n",
      "Epoch 11/50\n",
      "4/4 [==============================] - 0s 507us/step - loss: 0.2444\n",
      "Epoch 12/50\n",
      "4/4 [==============================] - 0s 2ms/step - loss: 0.2015\n",
      "Epoch 13/50\n",
      "4/4 [==============================] - 0s 0s/step - loss: 0.1662\n",
      "Epoch 14/50\n",
      "4/4 [==============================] - 0s 6ms/step - loss: 0.1366\n",
      "Epoch 15/50\n",
      "4/4 [==============================] - 0s 0s/step - loss: 0.1141\n",
      "Epoch 16/50\n",
      "4/4 [==============================] - 0s 6ms/step - loss: 0.0952\n",
      "Epoch 17/50\n",
      "4/4 [==============================] - 0s 0s/step - loss: 0.0790\n",
      "Epoch 18/50\n",
      "4/4 [==============================] - 0s 997us/step - loss: 0.0668\n",
      "Epoch 19/50\n",
      "4/4 [==============================] - 0s 4ms/step - loss: 0.0558\n",
      "Epoch 20/50\n",
      "4/4 [==============================] - 0s 0s/step - loss: 0.0475\n",
      "Epoch 21/50\n",
      "4/4 [==============================] - 0s 6ms/step - loss: 0.0415\n",
      "Epoch 22/50\n",
      "4/4 [==============================] - 0s 2ms/step - loss: 0.0366\n",
      "Epoch 23/50\n",
      "4/4 [==============================] - 0s 3ms/step - loss: 0.0320\n",
      "Epoch 24/50\n",
      "4/4 [==============================] - 0s 0s/step - loss: 0.0279\n",
      "Epoch 25/50\n",
      "4/4 [==============================] - 0s 973us/step - loss: 0.0246\n",
      "Epoch 26/50\n",
      "4/4 [==============================] - 0s 0s/step - loss: 0.0223\n",
      "Epoch 27/50\n",
      "4/4 [==============================] - 0s 0s/step - loss: 0.0206\n",
      "Epoch 28/50\n",
      "4/4 [==============================] - 0s 5ms/step - loss: 0.0189\n",
      "Epoch 29/50\n",
      "4/4 [==============================] - 0s 0s/step - loss: 0.0175\n",
      "Epoch 30/50\n",
      "4/4 [==============================] - 0s 6ms/step - loss: 0.0166\n",
      "Epoch 31/50\n",
      "4/4 [==============================] - 0s 0s/step - loss: 0.0156\n",
      "Epoch 32/50\n",
      "4/4 [==============================] - 0s 6ms/step - loss: 0.0147\n",
      "Epoch 33/50\n",
      "4/4 [==============================] - 0s 2ms/step - loss: 0.0141\n",
      "Epoch 34/50\n",
      "4/4 [==============================] - 0s 4ms/step - loss: 0.0136\n",
      "Epoch 35/50\n",
      "4/4 [==============================] - 0s 0s/step - loss: 0.0130\n",
      "Epoch 36/50\n",
      "4/4 [==============================] - 0s 5ms/step - loss: 0.0127\n",
      "Epoch 37/50\n",
      "4/4 [==============================] - 0s 0s/step - loss: 0.0123\n",
      "Epoch 38/50\n",
      "4/4 [==============================] - 0s 0s/step - loss: 0.0120\n",
      "Epoch 39/50\n",
      "4/4 [==============================] - 0s 5ms/step - loss: 0.0118\n",
      "Epoch 40/50\n",
      "4/4 [==============================] - 0s 0s/step - loss: 0.0116\n",
      "Epoch 41/50\n",
      "4/4 [==============================] - 0s 5ms/step - loss: 0.0114\n",
      "Epoch 42/50\n",
      "4/4 [==============================] - 0s 0s/step - loss: 0.0113\n",
      "Epoch 43/50\n",
      "4/4 [==============================] - 0s 5ms/step - loss: 0.0112\n",
      "Epoch 44/50\n",
      "4/4 [==============================] - 0s 2ms/step - loss: 0.0111\n",
      "Epoch 45/50\n",
      "4/4 [==============================] - 0s 3ms/step - loss: 0.0111\n",
      "Epoch 46/50\n",
      "4/4 [==============================] - 0s 0s/step - loss: 0.0110\n",
      "Epoch 47/50\n",
      "4/4 [==============================] - 0s 2ms/step - loss: 0.0109\n",
      "Epoch 48/50\n",
      "4/4 [==============================] - 0s 0s/step - loss: 0.0109\n",
      "Epoch 49/50\n",
      "4/4 [==============================] - 0s 0s/step - loss: 0.0109\n",
      "Epoch 50/50\n",
      "4/4 [==============================] - 0s 0s/step - loss: 0.0109\n"
     ]
    },
    {
     "data": {
      "text/plain": [
       "<keras.src.callbacks.History at 0x1fdfbd8a490>"
      ]
     },
     "execution_count": 5,
     "metadata": {},
     "output_type": "execute_result"
    }
   ],
   "source": [
    "model.fit(X, y, epochs=50)\n"
   ]
  },
  {
   "cell_type": "code",
   "execution_count": 7,
   "id": "5d443b5b",
   "metadata": {},
   "outputs": [
    {
     "name": "stdout",
     "output_type": "stream",
     "text": [
      "1/1 [==============================] - 0s 18ms/step\n",
      "Predicted value: 2.3891773\n"
     ]
    }
   ],
   "source": [
    "new_data = np.array([[0.7]])\n",
    "predictions = model.predict(new_data)\n",
    "print(\"Predicted value:\", predictions[0][0])\n"
   ]
  },
  {
   "cell_type": "code",
   "execution_count": null,
   "id": "cd4c0199",
   "metadata": {},
   "outputs": [],
   "source": []
  },
  {
   "cell_type": "code",
   "execution_count": null,
   "id": "055ddca2",
   "metadata": {},
   "outputs": [],
   "source": []
  }
 ],
 "metadata": {
  "kernelspec": {
   "display_name": "Python 3 (ipykernel)",
   "language": "python",
   "name": "python3"
  },
  "language_info": {
   "codemirror_mode": {
    "name": "ipython",
    "version": 3
   },
   "file_extension": ".py",
   "mimetype": "text/x-python",
   "name": "python",
   "nbconvert_exporter": "python",
   "pygments_lexer": "ipython3",
   "version": "3.11.3"
  }
 },
 "nbformat": 4,
 "nbformat_minor": 5
}
