{
 "cells": [
  {
   "cell_type": "markdown",
   "id": "bf9b87f7",
   "metadata": {},
   "source": [
    "# Introduction to TensorFlow 2.0\n",
    "# Set up TensorFlow 2.0 and run a basic operation."
   ]
  },
  {
   "cell_type": "code",
   "execution_count": 7,
   "id": "4667274c",
   "metadata": {},
   "outputs": [],
   "source": [
    "# pip install tensorflow"
   ]
  },
  {
   "cell_type": "code",
   "execution_count": 8,
   "id": "9b8d1018",
   "metadata": {},
   "outputs": [
    {
     "name": "stdout",
     "output_type": "stream",
     "text": [
      "2.13.0\n"
     ]
    }
   ],
   "source": [
    "import tensorflow as tf\n",
    "print(tf.__version__)"
   ]
  },
  {
   "cell_type": "code",
   "execution_count": 9,
   "id": "d67097b9",
   "metadata": {},
   "outputs": [
    {
     "name": "stdout",
     "output_type": "stream",
     "text": [
      "Sum: tf.Tensor(9, shape=(), dtype=int32)\n"
     ]
    }
   ],
   "source": [
    "a= tf.constant(5)\n",
    "b= tf.constant(4)\n",
    "\n",
    "add= a+b\n",
    "\n",
    "print(\"Sum:\",add)"
   ]
  },
  {
   "cell_type": "code",
   "execution_count": null,
   "id": "b7ff81e2",
   "metadata": {},
   "outputs": [],
   "source": []
  }
 ],
 "metadata": {
  "kernelspec": {
   "display_name": "Python 3 (ipykernel)",
   "language": "python",
   "name": "python3"
  },
  "language_info": {
   "codemirror_mode": {
    "name": "ipython",
    "version": 3
   },
   "file_extension": ".py",
   "mimetype": "text/x-python",
   "name": "python",
   "nbconvert_exporter": "python",
   "pygments_lexer": "ipython3",
   "version": "3.11.3"
  }
 },
 "nbformat": 4,
 "nbformat_minor": 5
}
