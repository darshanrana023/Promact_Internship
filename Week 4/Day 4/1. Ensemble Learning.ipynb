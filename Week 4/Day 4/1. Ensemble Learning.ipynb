{
 "cells": [
  {
   "cell_type": "markdown",
   "id": "a9e061f7",
   "metadata": {},
   "source": [
    "# 1.1 Implement a basic ensemble method using majority voting on a sample dataset."
   ]
  },
  {
   "cell_type": "code",
   "execution_count": 3,
   "id": "59bdc7c3",
   "metadata": {},
   "outputs": [
    {
     "name": "stdout",
     "output_type": "stream",
     "text": [
      "Ensemble Predictions: ['classA', 'classA', 'classB', 'classA', 'classB']\n"
     ]
    }
   ],
   "source": [
    "from collections import Counter\n",
    "\n",
    "# Sample dataset where each row represents predictions from different classifiers\n",
    "predictions = [\n",
    "    ['classA', 'classA', 'classB', 'classA', 'classB'],\n",
    "    ['classB', 'classA', 'classB', 'classA', 'classA'],\n",
    "    ['classA', 'classA', 'classA', 'classB', 'classB'],\n",
    "    ['classB', 'classB', 'classB', 'classA', 'classA']\n",
    "]\n",
    "\n",
    "def majority_voting(predictions):\n",
    "    num_classifiers = len(predictions)\n",
    "    num_data_points = len(predictions[0])\n",
    "    \n",
    "    # Initialize an empty list to store the final ensemble predictions\n",
    "    ensemble_predictions = []\n",
    "    \n",
    "    # Loop through each data point\n",
    "    for i in range(num_data_points):\n",
    "        # Collect predictions from all classifiers for the current data point\n",
    "        votes = [predictions[j][i] for j in range(num_classifiers)]\n",
    "        \n",
    "        # Count the occurrences of each class in the votes\n",
    "        class_counts = Counter(votes)\n",
    "        \n",
    "        # Find the class with the highest vote count\n",
    "        majority_class = class_counts.most_common(1)[0][0]\n",
    "        \n",
    "        # Append the majority class to the ensemble predictions\n",
    "        ensemble_predictions.append(majority_class)\n",
    "    \n",
    "    return ensemble_predictions\n",
    "\n",
    "# Get the ensemble predictions using majority voting\n",
    "ensemble_predictions = majority_voting(predictions)\n",
    "\n",
    "# Print the ensemble predictions\n",
    "print(\"Ensemble Predictions:\", ensemble_predictions)\n"
   ]
  },
  {
   "cell_type": "markdown",
   "id": "15770be7",
   "metadata": {},
   "source": [
    "# 1.2 Use Bagging with Decision Trees on a dataset and compare its performance with a single Decision Tree."
   ]
  },
  {
   "cell_type": "code",
   "execution_count": 12,
   "id": "f44595fd",
   "metadata": {},
   "outputs": [],
   "source": [
    "from sklearn.datasets import load_iris\n",
    "from sklearn.model_selection import train_test_split\n",
    "from sklearn.tree import DecisionTreeClassifier\n",
    "from sklearn.ensemble import BaggingClassifier\n",
    "from sklearn.metrics import accuracy_score"
   ]
  },
  {
   "cell_type": "code",
   "execution_count": 13,
   "id": "b96ecd18",
   "metadata": {},
   "outputs": [],
   "source": [
    "# Load the Iris dataset\n",
    "iris = load_iris()\n",
    "X = iris.data\n",
    "y = iris.target\n",
    "\n",
    "# Split the dataset into training and testing sets\n",
    "X_train, X_test, y_train, y_test = train_test_split(X, y, test_size=0.2, random_state=42)"
   ]
  },
  {
   "cell_type": "code",
   "execution_count": 9,
   "id": "3cddc43d",
   "metadata": {},
   "outputs": [
    {
     "name": "stdout",
     "output_type": "stream",
     "text": [
      "Single Decision Tree Accuracy: 1.0\n"
     ]
    }
   ],
   "source": [
    "# Create and train a single Decision Tree classifier\n",
    "single_tree = DecisionTreeClassifier(random_state=42)\n",
    "single_tree.fit(X_train, y_train)\n",
    "\n",
    "# Make predictions\n",
    "single_tree_predictions = single_tree.predict(X_test)\n",
    "\n",
    "# Calculate accuracy\n",
    "single_tree_accuracy = accuracy_score(y_test, single_tree_predictions)\n",
    "print(\"Single Decision Tree Accuracy:\", single_tree_accuracy)"
   ]
  },
  {
   "cell_type": "code",
   "execution_count": 10,
   "id": "e70d1ca4",
   "metadata": {},
   "outputs": [
    {
     "name": "stdout",
     "output_type": "stream",
     "text": [
      "Bagging with Decision Trees Accuracy: 1.0\n"
     ]
    },
    {
     "name": "stderr",
     "output_type": "stream",
     "text": [
      "C:\\Users\\admin\\anaconda3\\Lib\\site-packages\\sklearn\\ensemble\\_base.py:166: FutureWarning: `base_estimator` was renamed to `estimator` in version 1.2 and will be removed in 1.4.\n",
      "  warnings.warn(\n"
     ]
    }
   ],
   "source": [
    "# Create and train a Bagging classifier with Decision Trees\n",
    "bagging_classifier = BaggingClassifier(base_estimator=DecisionTreeClassifier(),\n",
    "                                       n_estimators=10,  # Number of base models\n",
    "                                       random_state=42)\n",
    "bagging_classifier.fit(X_train, y_train)\n",
    "\n",
    "# Make predictions\n",
    "bagging_predictions = bagging_classifier.predict(X_test)\n",
    "\n",
    "# Calculate accuracy\n",
    "bagging_accuracy = accuracy_score(y_test, bagging_predictions)\n",
    "print(\"Bagging with Decision Trees Accuracy:\", bagging_accuracy)\n"
   ]
  },
  {
   "cell_type": "code",
   "execution_count": 11,
   "id": "3beeb805",
   "metadata": {},
   "outputs": [
    {
     "name": "stdout",
     "output_type": "stream",
     "text": [
      "Single Decision Tree Accuracy: 1.0\n",
      "Bagging with Decision Trees Accuracy: 1.0\n"
     ]
    }
   ],
   "source": [
    "print(\"Single Decision Tree Accuracy:\", single_tree_accuracy)\n",
    "print(\"Bagging with Decision Trees Accuracy:\", bagging_accuracy)"
   ]
  },
  {
   "cell_type": "markdown",
   "id": "bba446f3",
   "metadata": {},
   "source": [
    "# 1.3 Implement a Random Forest classifier on a dataset and visualize its feature importances."
   ]
  },
  {
   "cell_type": "code",
   "execution_count": 1,
   "id": "e472b6ed",
   "metadata": {},
   "outputs": [],
   "source": [
    "import matplotlib.pyplot as plt\n",
    "from sklearn.datasets import load_iris\n",
    "from sklearn.model_selection import train_test_split\n",
    "from sklearn.ensemble import RandomForestClassifier"
   ]
  },
  {
   "cell_type": "code",
   "execution_count": 15,
   "id": "837e70d6",
   "metadata": {},
   "outputs": [],
   "source": [
    "# Load the Iris dataset\n",
    "iris = load_iris()\n",
    "X = iris.data\n",
    "y = iris.target\n",
    "\n",
    "# Split the dataset into training and testing sets\n",
    "X_train, X_test, y_train, y_test = train_test_split(X, y, test_size=0.2, random_state=42)"
   ]
  },
  {
   "cell_type": "code",
   "execution_count": 24,
   "id": "3509230a",
   "metadata": {},
   "outputs": [
    {
     "data": {
      "text/plain": [
       "['sepal length (cm)',\n",
       " 'sepal width (cm)',\n",
       " 'petal length (cm)',\n",
       " 'petal width (cm)']"
      ]
     },
     "execution_count": 24,
     "metadata": {},
     "output_type": "execute_result"
    }
   ],
   "source": [
    "iris.feature_names"
   ]
  },
  {
   "cell_type": "code",
   "execution_count": 16,
   "id": "f213c256",
   "metadata": {},
   "outputs": [],
   "source": [
    "# Create and train a Random Forest classifier\n",
    "random_forest = RandomForestClassifier(n_estimators=100, random_state=42)\n",
    "random_forest.fit(X_train, y_train)\n",
    "\n",
    "# Make predictions\n",
    "rf_predictions = random_forest.predict(X_test)"
   ]
  },
  {
   "cell_type": "code",
   "execution_count": 28,
   "id": "8d15a523",
   "metadata": {},
   "outputs": [
    {
     "data": {
      "image/png": "[encoded data removed]",
      "text/plain": [
       "<Figure size 800x600 with 1 Axes>"
      ]
     },
     "metadata": {},
     "output_type": "display_data"
    }
   ],
   "source": [
    "# Get feature importances from the trained Random Forest\n",
    "feature_importances = random_forest.feature_importances_\n",
    "\n",
    "# Get the feature names from the dataset\n",
    "feature_names = iris.feature_names\n",
    "\n",
    "# Sort indices of feature importances in descending order\n",
    "sorted_indices = feature_importances.argsort()[::-1]\n",
    "\n",
    "# Plot the feature importances\n",
    "plt.figure(figsize=(8,6))\n",
    "plt.bar(range(X.shape[1]), feature_importances[sorted_indices])\n",
    "plt.xticks(range(X.shape[1]), [feature_names[i] for i in sorted_indices], )\n",
    "plt.xlabel(\"Feature\")\n",
    "plt.ylabel(\"Importance\")\n",
    "plt.title(\"Feature Importances in Random Forest\")\n",
    "plt.show()"
   ]
  },
  {
   "cell_type": "code",
   "execution_count": null,
   "id": "72b084a1",
   "metadata": {},
   "outputs": [],
   "source": []
  }
 ],
 "metadata": {
  "kernelspec": {
   "display_name": "Python 3 (ipykernel)",
   "language": "python",
   "name": "python3"
  },
  "language_info": {
   "codemirror_mode": {
    "name": "ipython",
    "version": 3
   },
   "file_extension": ".py",
   "mimetype": "text/x-python",
   "name": "python",
   "nbconvert_exporter": "python",
   "pygments_lexer": "ipython3",
   "version": "3.11.3"
  }
 },
 "nbformat": 4,
 "nbformat_minor": 5
}
