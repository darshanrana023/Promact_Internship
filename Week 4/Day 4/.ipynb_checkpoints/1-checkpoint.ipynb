{
 "cells": [
  {
   "cell_type": "markdown",
   "id": "84733bc9",
   "metadata": {},
   "source": [
    "# Implement a basic ensemble method using majority voting on a sample dataset."
   ]
  },
  {
   "cell_type": "code",
   "execution_count": 3,
   "id": "58ae2d9a",
   "metadata": {},
   "outputs": [
    {
     "name": "stdout",
     "output_type": "stream",
     "text": [
      "Ensemble Predictions: ['classA', 'classA', 'classB', 'classA', 'classB']\n"
     ]
    }
   ],
   "source": [
    "from collections import Counter\n",
    "\n",
    "# Sample dataset where each row represents predictions from different classifiers\n",
    "predictions = [\n",
    "    ['classA', 'classA', 'classB', 'classA', 'classB'],\n",
    "    ['classB', 'classA', 'classB', 'classA', 'classA'],\n",
    "    ['classA', 'classA', 'classA', 'classB', 'classB'],\n",
    "    ['classB', 'classB', 'classB', 'classA', 'classA']\n",
    "]\n",
    "\n",
    "def majority_voting(predictions):\n",
    "    num_classifiers = len(predictions)\n",
    "    num_data_points = len(predictions[0])\n",
    "    \n",
    "    # Initialize an empty list to store the final ensemble predictions\n",
    "    ensemble_predictions = []\n",
    "    \n",
    "    # Loop through each data point\n",
    "    for i in range(num_data_points):\n",
    "        # Collect predictions from all classifiers for the current data point\n",
    "        votes = [predictions[j][i] for j in range(num_classifiers)]\n",
    "        \n",
    "        # Count the occurrences of each class in the votes\n",
    "        class_counts = Counter(votes)\n",
    "        \n",
    "        # Find the class with the highest vote count\n",
    "        majority_class = class_counts.most_common(1)[0][0]\n",
    "        \n",
    "        # Append the majority class to the ensemble predictions\n",
    "        ensemble_predictions.append(majority_class)\n",
    "    \n",
    "    return ensemble_predictions\n",
    "\n",
    "# Get the ensemble predictions using majority voting\n",
    "ensemble_predictions = majority_voting(predictions)\n",
    "\n",
    "# Print the ensemble predictions\n",
    "print(\"Ensemble Predictions:\", ensemble_predictions)\n"
   ]
  },
  {
   "cell_type": "markdown",
   "id": "b6db2314",
   "metadata": {},
   "source": [
    "# Use Bagging with Decision Trees on a dataset and compare its performance with a single Decision Tree."
   ]
  },
  {
   "cell_type": "code",
   "execution_count": 12,
   "id": "1085a135",
   "metadata": {},
   "outputs": [],
   "source": [
    "from sklearn.datasets import load_iris\n",
    "from sklearn.model_selection import train_test_split\n",
    "from sklearn.tree import DecisionTreeClassifier\n",
    "from sklearn.ensemble import BaggingClassifier\n",
    "from sklearn.metrics import accuracy_score"
   ]
  },
  {
   "cell_type": "code",
   "execution_count": 13,
   "id": "30cda96d",
   "metadata": {},
   "outputs": [],
   "source": [
    "# Load the Iris dataset\n",
    "iris = load_iris()\n",
    "X = iris.data\n",
    "y = iris.target\n",
    "\n",
    "# Split the dataset into training and testing sets\n",
    "X_train, X_test, y_train, y_test = train_test_split(X, y, test_size=0.2, random_state=42)"
   ]
  },
  {
   "cell_type": "code",
   "execution_count": 9,
   "id": "d5db95e1",
   "metadata": {},
   "outputs": [
    {
     "name": "stdout",
     "output_type": "stream",
     "text": [
      "Single Decision Tree Accuracy: 1.0\n"
     ]
    }
   ],
   "source": [
    "# Create and train a single Decision Tree classifier\n",
    "single_tree = DecisionTreeClassifier(random_state=42)\n",
    "single_tree.fit(X_train, y_train)\n",
    "\n",
    "# Make predictions\n",
    "single_tree_predictions = single_tree.predict(X_test)\n",
    "\n",
    "# Calculate accuracy\n",
    "single_tree_accuracy = accuracy_score(y_test, single_tree_predictions)\n",
    "print(\"Single Decision Tree Accuracy:\", single_tree_accuracy)"
   ]
  },
  {
   "cell_type": "code",
   "execution_count": 10,
   "id": "68d25ff5",
   "metadata": {},
   "outputs": [
    {
     "name": "stdout",
     "output_type": "stream",
     "text": [
      "Bagging with Decision Trees Accuracy: 1.0\n"
     ]
    },
    {
     "name": "stderr",
     "output_type": "stream",
     "text": [
      "C:\\Users\\admin\\anaconda3\\Lib\\site-packages\\sklearn\\ensemble\\_base.py:166: FutureWarning: `base_estimator` was renamed to `estimator` in version 1.2 and will be removed in 1.4.\n",
      "  warnings.warn(\n"
     ]
    }
   ],
   "source": [
    "# Create and train a Bagging classifier with Decision Trees\n",
    "bagging_classifier = BaggingClassifier(base_estimator=DecisionTreeClassifier(),\n",
    "                                       n_estimators=10,  # Number of base models\n",
    "                                       random_state=42)\n",
    "bagging_classifier.fit(X_train, y_train)\n",
    "\n",
    "# Make predictions\n",
    "bagging_predictions = bagging_classifier.predict(X_test)\n",
    "\n",
    "# Calculate accuracy\n",
    "bagging_accuracy = accuracy_score(y_test, bagging_predictions)\n",
    "print(\"Bagging with Decision Trees Accuracy:\", bagging_accuracy)\n"
   ]
  },
  {
   "cell_type": "code",
   "execution_count": 11,
   "id": "6e39c554",
   "metadata": {},
   "outputs": [
    {
     "name": "stdout",
     "output_type": "stream",
     "text": [
      "Single Decision Tree Accuracy: 1.0\n",
      "Bagging with Decision Trees Accuracy: 1.0\n"
     ]
    }
   ],
   "source": [
    "print(\"Single Decision Tree Accuracy:\", single_tree_accuracy)\n",
    "print(\"Bagging with Decision Trees Accuracy:\", bagging_accuracy)"
   ]
  },
  {
   "cell_type": "markdown",
   "id": "f9fa3f58",
   "metadata": {},
   "source": [
    "# Implement a Random Forest classifier on a dataset and visualize its feature importances."
   ]
  },
  {
   "cell_type": "code",
   "execution_count": 14,
   "id": "4cb575cb",
   "metadata": {},
   "outputs": [],
   "source": [
    "import matplotlib.pyplot as plt\n",
    "from sklearn.datasets import load_iris\n",
    "from sklearn.model_selection import train_test_split\n",
    "from sklearn.ensemble import RandomForestClassifier"
   ]
  },
  {
   "cell_type": "code",
   "execution_count": 15,
   "id": "be342264",
   "metadata": {},
   "outputs": [],
   "source": [
    "# Load the Iris dataset\n",
    "iris = load_iris()\n",
    "X = iris.data\n",
    "y = iris.target\n",
    "\n",
    "# Split the dataset into training and testing sets\n",
    "X_train, X_test, y_train, y_test = train_test_split(X, y, test_size=0.2, random_state=42)"
   ]
  },
  {
   "cell_type": "code",
   "execution_count": 18,
   "id": "370ca37f",
   "metadata": {},
   "outputs": [
    {
     "ename": "AttributeError",
     "evalue": "head",
     "output_type": "error",
     "traceback": [
      "\u001b[1;31m---------------------------------------------------------------------------\u001b[0m",
      "\u001b[1;31mKeyError\u001b[0m                                  Traceback (most recent call last)",
      "File \u001b[1;32m~\\anaconda3\\Lib\\site-packages\\sklearn\\utils\\_bunch.py:35\u001b[0m, in \u001b[0;36mBunch.__getattr__\u001b[1;34m(self, key)\u001b[0m\n\u001b[0;32m     34\u001b[0m \u001b[38;5;28;01mtry\u001b[39;00m:\n\u001b[1;32m---> 35\u001b[0m     \u001b[38;5;28;01mreturn\u001b[39;00m \u001b[38;5;28mself\u001b[39m[key]\n\u001b[0;32m     36\u001b[0m \u001b[38;5;28;01mexcept\u001b[39;00m \u001b[38;5;167;01mKeyError\u001b[39;00m:\n",
      "\u001b[1;31mKeyError\u001b[0m: 'head'",
      "\nDuring handling of the above exception, another exception occurred:\n",
      "\u001b[1;31mAttributeError\u001b[0m                            Traceback (most recent call last)",
      "Cell \u001b[1;32mIn[18], line 1\u001b[0m\n\u001b[1;32m----> 1\u001b[0m iris\u001b[38;5;241m.\u001b[39mhead()\n",
      "File \u001b[1;32m~\\anaconda3\\Lib\\site-packages\\sklearn\\utils\\_bunch.py:37\u001b[0m, in \u001b[0;36mBunch.__getattr__\u001b[1;34m(self, key)\u001b[0m\n\u001b[0;32m     35\u001b[0m     \u001b[38;5;28;01mreturn\u001b[39;00m \u001b[38;5;28mself\u001b[39m[key]\n\u001b[0;32m     36\u001b[0m \u001b[38;5;28;01mexcept\u001b[39;00m \u001b[38;5;167;01mKeyError\u001b[39;00m:\n\u001b[1;32m---> 37\u001b[0m     \u001b[38;5;28;01mraise\u001b[39;00m \u001b[38;5;167;01mAttributeError\u001b[39;00m(key)\n",
      "\u001b[1;31mAttributeError\u001b[0m: head"
     ]
    }
   ],
   "source": [
    "iris.head()"
   ]
  },
  {
   "cell_type": "code",
   "execution_count": 16,
   "id": "67e4ee98",
   "metadata": {},
   "outputs": [],
   "source": [
    "# Create and train a Random Forest classifier\n",
    "random_forest = RandomForestClassifier(n_estimators=100, random_state=42)\n",
    "random_forest.fit(X_train, y_train)\n",
    "\n",
    "# Make predictions\n",
    "rf_predictions = random_forest.predict(X_test)"
   ]
  },
  {
   "cell_type": "code",
   "execution_count": 22,
   "id": "ef4f6278",
   "metadata": {},
   "outputs": [
    {
     "data": {
      "image/png": "[encoded data removed]",
      "text/plain": [
       "<Figure size 640x480 with 1 Axes>"
      ]
     },
     "metadata": {},
     "output_type": "display_data"
    }
   ],
   "source": [
    "# Get feature importances from the trained Random Forest\n",
    "feature_importances = random_forest.feature_importances_\n",
    "\n",
    "# Get the feature names from the dataset\n",
    "feature_names = iris.feature_names\n",
    "\n",
    "# Sort indices of feature importances in descending order\n",
    "sorted_indices = feature_importances.argsort()[::-1]\n",
    "\n",
    "# Plot the feature importances\n",
    "\n",
    "plt.bar(range(X.shape[1]), feature_importances[sorted_indices])\n",
    "plt.xticks(range(X.shape[1]), [feature_names[i] for i in sorted_indices], )\n",
    "plt.xlabel(\"Feature\")\n",
    "plt.ylabel(\"Importance\")\n",
    "plt.title(\"Feature Importances in Random Forest\")\n",
    "plt.show()"
   ]
  },
  {
   "cell_type": "code",
   "execution_count": null,
   "id": "cc399570",
   "metadata": {},
   "outputs": [],
   "source": []
  }
 ],
 "metadata": {
  "kernelspec": {
   "display_name": "Python 3 (ipykernel)",
   "language": "python",
   "name": "python3"
  },
  "language_info": {
   "codemirror_mode": {
    "name": "ipython",
    "version": 3
   },
   "file_extension": ".py",
   "mimetype": "text/x-python",
   "name": "python",
   "nbconvert_exporter": "python",
   "pygments_lexer": "ipython3",
   "version": "3.11.3"
  }
 },
 "nbformat": 4,
 "nbformat_minor": 5
}
