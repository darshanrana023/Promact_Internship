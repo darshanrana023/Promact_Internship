{
 "cells": [
  {
   "cell_type": "code",
   "execution_count": 3,
   "id": "eed18107",
   "metadata": {},
   "outputs": [
    {
     "name": "stdout",
     "output_type": "stream",
     "text": [
      "ccp_alpha: 0.00, accuracy: 0.92\n",
      "ccp_alpha: 0.01, accuracy: 0.92\n",
      "ccp_alpha: 0.02, accuracy: 0.89\n",
      "ccp_alpha: 0.03, accuracy: 0.89\n",
      "ccp_alpha: 0.04, accuracy: 0.89\n",
      "ccp_alpha: 0.05, accuracy: 0.89\n",
      "ccp_alpha: 0.06, accuracy: 0.89\n",
      "ccp_alpha: 0.07, accuracy: 0.89\n",
      "ccp_alpha: 0.08, accuracy: 0.89\n",
      "ccp_alpha: 0.09, accuracy: 0.89\n",
      "Regular decision tree accuracy: 0.92\n"
     ]
    }
   ],
   "source": [
    "import numpy as np\n",
    "import pandas as pd\n",
    "from sklearn.tree import DecisionTreeClassifier\n",
    "from sklearn.model_selection import train_test_split\n",
    "from sklearn.metrics import accuracy_score\n",
    "from sklearn.tree import export_graphviz\n",
    "from graphviz import Source\n",
    "\n",
    "# Load the iris dataset\n",
    "from sklearn.datasets import load_iris\n",
    "iris = load_iris()\n",
    "\n",
    "# Split the dataset into a training set and a test set\n",
    "X_train, X_test, y_train, y_test = train_test_split(iris.data, iris.target, test_size=0.25)\n",
    "\n",
    "# Train a decision tree on the training set\n",
    "clf = DecisionTreeClassifier()\n",
    "clf.fit(X_train, y_train)\n",
    "\n",
    "# Prune the decision tree using cost-complexity pruning\n",
    "ccp_alphas = np.arange(0.0, 0.1, 0.01)\n",
    "for ccp_alpha in ccp_alphas:\n",
    "  pruned_clf = DecisionTreeClassifier(ccp_alpha=ccp_alpha)\n",
    "  pruned_clf.fit(X_train, y_train)\n",
    "\n",
    "  # Evaluate the performance of the pruned decision tree on the test set\n",
    "  accuracy = accuracy_score(y_test, pruned_clf.predict(X_test))\n",
    "  print('ccp_alpha: %.2f, accuracy: %.2f' % (ccp_alpha, accuracy))\n",
    "\n",
    "# Train a regular decision tree on the training set\n",
    "regular_clf = DecisionTreeClassifier()\n",
    "regular_clf.fit(X_train, y_train)\n",
    "\n",
    "# Evaluate the performance of the regular decision tree on the test set\n",
    "regular_accuracy = accuracy_score(y_test, regular_clf.predict(X_test))\n",
    "\n",
    "print('Regular decision tree accuracy: %.2f' % regular_accuracy)"
   ]
  },
  {
   "cell_type": "code",
   "execution_count": null,
   "id": "5fd743e9",
   "metadata": {},
   "outputs": [],
   "source": []
  }
 ],
 "metadata": {
  "kernelspec": {
   "display_name": "Python 3 (ipykernel)",
   "language": "python",
   "name": "python3"
  },
  "language_info": {
   "codemirror_mode": {
    "name": "ipython",
    "version": 3
   },
   "file_extension": ".py",
   "mimetype": "text/x-python",
   "name": "python",
   "nbconvert_exporter": "python",
   "pygments_lexer": "ipython3",
   "version": "3.11.3"
  }
 },
 "nbformat": 4,
 "nbformat_minor": 5
}
