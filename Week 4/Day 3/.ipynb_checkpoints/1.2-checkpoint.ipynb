{
 "cells": [
  {
   "cell_type": "code",
   "execution_count": 1,
   "id": "b307f86f",
   "metadata": {},
   "outputs": [],
   "source": [
    "#This part imports the necessary libraries: TensorFlow for building and training neural networks,\n",
    "#layers and models from Keras for creating the CNN architecture, and matplotlib for plotting the training history.\n",
    "import tensorflow as tf\n",
    "from tensorflow.keras import layers, models, datasets\n",
    "import matplotlib.pyplot as plt"
   ]
  },
  {
   "cell_type": "code",
   "execution_count": 2,
   "id": "44568875",
   "metadata": {},
   "outputs": [
    {
     "name": "stdout",
     "output_type": "stream",
     "text": [
      "Downloading data from https://www.cs.toronto.edu/~kriz/cifar-10-python.tar.gz\n",
      "170498071/170498071 [==============================] - 345s 2us/step\n"
     ]
    }
   ],
   "source": [
    "# Here, we're loading the CIFAR-10 dataset, which is a dataset of small 32x32 color images in 10 different classes. \n",
    "# The data is split into training and testing sets.\n",
    "# We then normalize the pixel values of the images to be between 0 and 1 by dividing by 255.0.\n",
    "\n",
    "(train_images, train_labels), (test_images, test_labels) = datasets.cifar10.load_data()\n",
    "train_images, test_images = train_images / 255.0, test_images / 255.0"
   ]
  },
  {
   "cell_type": "code",
   "execution_count": 4,
   "id": "8b9c44a1",
   "metadata": {},
   "outputs": [],
   "source": [
    "# This code defines the CNN model architecture using the Keras Sequential API. It consists of several layers:\n",
    "\n",
    "# The first layer is a 2D convolutional layer with 32 filters of size 3x3 and a ReLU activation function. The input_shape \n",
    "# specifies that the input images have a size of 32x32 pixels with 3 color channels (RGB).\n",
    "\n",
    "# Followed by a max-pooling layer that reduces the spatial dimensions by taking the maximum value within a 2x2 window.\n",
    "\n",
    "# Two more pairs of convolutional and max-pooling layers are added. These layers extract more complex features from the images.\n",
    "\n",
    "# The last convolutional layer is followed by a flattening layer that converts the 2D feature maps into a 1D vector.\n",
    "\n",
    "# Two fully connected (dense) layers are added. The first has 64 neurons with a ReLU activation function, and \n",
    "# the second has 10 neurons (for the 10 classes in CIFAR-10) without an activation function.\n",
    "\n",
    "model = models.Sequential()\n",
    "\n",
    "model.add(layers.Conv2D(32, (3, 3), activation='relu', input_shape=(32, 32, 3)))\n",
    "model.add(layers.MaxPooling2D((2, 2)))\n",
    "\n",
    "model.add(layers.Conv2D(64, (3, 3), activation='relu'))\n",
    "model.add(layers.MaxPooling2D((2, 2)))\n",
    "\n",
    "model.add(layers.Conv2D(64, (3, 3), activation='relu'))\n",
    "\n",
    "model.add(layers.Flatten())\n",
    "model.add(layers.Dense(64, activation='relu'))\n",
    "model.add(layers.Dense(10))\n"
   ]
  },
  {
   "cell_type": "code",
   "execution_count": 5,
   "id": "c5d26f3f",
   "metadata": {},
   "outputs": [],
   "source": [
    "model.compile(optimizer='adam',\n",
    "              loss=tf.keras.losses.SparseCategoricalCrossentropy(from_logits=True),\n",
    "              metrics=['accuracy'])\n"
   ]
  },
  {
   "cell_type": "code",
   "execution_count": 6,
   "id": "92507fbc",
   "metadata": {},
   "outputs": [
    {
     "name": "stdout",
     "output_type": "stream",
     "text": [
      "Epoch 1/10\n",
      "1563/1563 [==============================] - 28s 17ms/step - loss: 1.5285 - accuracy: 0.4411 - val_loss: 1.2894 - val_accuracy: 0.5332\n",
      "Epoch 2/10\n",
      "1563/1563 [==============================] - 26s 17ms/step - loss: 1.1502 - accuracy: 0.5918 - val_loss: 1.0778 - val_accuracy: 0.6142\n",
      "Epoch 3/10\n",
      "1563/1563 [==============================] - 28s 18ms/step - loss: 1.0022 - accuracy: 0.6457 - val_loss: 0.9993 - val_accuracy: 0.6529\n",
      "Epoch 4/10\n",
      "1563/1563 [==============================] - 28s 18ms/step - loss: 0.9007 - accuracy: 0.6856 - val_loss: 0.9619 - val_accuracy: 0.6659\n",
      "Epoch 5/10\n",
      "1563/1563 [==============================] - 28s 18ms/step - loss: 0.8198 - accuracy: 0.7142 - val_loss: 0.9334 - val_accuracy: 0.6784\n",
      "Epoch 6/10\n",
      "1563/1563 [==============================] - 27s 17ms/step - loss: 0.7673 - accuracy: 0.7311 - val_loss: 0.9108 - val_accuracy: 0.6923\n",
      "Epoch 7/10\n",
      "1563/1563 [==============================] - 27s 17ms/step - loss: 0.7157 - accuracy: 0.7481 - val_loss: 0.8700 - val_accuracy: 0.7065\n",
      "Epoch 8/10\n",
      "1563/1563 [==============================] - 28s 18ms/step - loss: 0.6742 - accuracy: 0.7625 - val_loss: 0.8717 - val_accuracy: 0.7041\n",
      "Epoch 9/10\n",
      "1563/1563 [==============================] - 27s 17ms/step - loss: 0.6319 - accuracy: 0.7782 - val_loss: 0.8681 - val_accuracy: 0.7107\n",
      "Epoch 10/10\n",
      "1563/1563 [==============================] - 27s 17ms/step - loss: 0.5968 - accuracy: 0.7890 - val_loss: 0.8734 - val_accuracy: 0.7156\n"
     ]
    }
   ],
   "source": [
    "history = model.fit(train_images, train_labels, epochs=10, \n",
    "                    validation_data=(test_images, test_labels))\n"
   ]
  },
  {
   "cell_type": "code",
   "execution_count": 7,
   "id": "1279bffb",
   "metadata": {},
   "outputs": [
    {
     "name": "stdout",
     "output_type": "stream",
     "text": [
      "313/313 - 2s - loss: 0.8734 - accuracy: 0.7156 - 2s/epoch - 6ms/step\n",
      "\n",
      "Test accuracy: 0.7156000137329102\n"
     ]
    }
   ],
   "source": [
    "test_loss, test_acc = model.evaluate(test_images,  test_labels, verbose=2)\n",
    "print(\"\\nTest accuracy:\", test_acc)"
   ]
  },
  {
   "cell_type": "code",
   "execution_count": 8,
   "id": "8a409384",
   "metadata": {},
   "outputs": [
    {
     "data": {
      "image/png": "[encoded data removed]",
      "text/plain": [
       "<Figure size 640x480 with 1 Axes>"
      ]
     },
     "metadata": {},
     "output_type": "display_data"
    }
   ],
   "source": [
    "plt.plot(history.history['accuracy'], label='accuracy')\n",
    "plt.plot(history.history['val_accuracy'], label = 'val_accuracy')\n",
    "plt.xlabel('Epoch')\n",
    "plt.ylabel('Accuracy')\n",
    "plt.ylim([0, 1])\n",
    "plt.legend(loc='lower right')\n",
    "plt.show()"
   ]
  },
  {
   "cell_type": "code",
   "execution_count": null,
   "id": "797971ce",
   "metadata": {},
   "outputs": [],
   "source": []
  }
 ],
 "metadata": {
  "kernelspec": {
   "display_name": "Python 3 (ipykernel)",
   "language": "python",
   "name": "python3"
  },
  "language_info": {
   "codemirror_mode": {
    "name": "ipython",
    "version": 3
   },
   "file_extension": ".py",
   "mimetype": "text/x-python",
   "name": "python",
   "nbconvert_exporter": "python",
   "pygments_lexer": "ipython3",
   "version": "3.11.3"
  }
 },
 "nbformat": 4,
 "nbformat_minor": 5
}
