{
 "cells": [
  {
   "cell_type": "markdown",
   "id": "c0faac73",
   "metadata": {},
   "source": [
    "# Dictionary\n",
    "Dictionaries are Python’s implementation of a data structure that is more generally known as an associative array. A dictionary consists of a collection of key-value pairs. Each key-value pair maps the key to its associated value.\n",
    "\n",
    "You can define a dictionary by enclosing a comma-separated list of key-value pairs in curly braces ({}). A colon (:) separates each key from its associated value:\n",
    "\n"
   ]
  },
  {
   "cell_type": "code",
   "execution_count": 1,
   "id": "a915b87f",
   "metadata": {},
   "outputs": [],
   "source": [
    "# d = dict([\n",
    "#     (<key>, <value>),\n",
    "#     (<key>, <value),\n",
    "#       .\n",
    "#       .\n",
    "#       .\n",
    "#     (<key>, <value>)\n",
    "# ])"
   ]
  },
  {
   "cell_type": "code",
   "execution_count": 2,
   "id": "d78ab96c",
   "metadata": {},
   "outputs": [],
   "source": [
    "Book = dict([\n",
    "    ('title','XYZ Book'),\n",
    "    ('author','Unknown'),\n",
    "    ('publish_year',2023)\n",
    "])"
   ]
  },
  {
   "cell_type": "code",
   "execution_count": 3,
   "id": "80d92a8f",
   "metadata": {},
   "outputs": [
    {
     "data": {
      "text/plain": [
       "'XYZ Book'"
      ]
     },
     "execution_count": 3,
     "metadata": {},
     "output_type": "execute_result"
    }
   ],
   "source": [
    "Book['title']"
   ]
  },
  {
   "cell_type": "code",
   "execution_count": 4,
   "id": "199ceae6",
   "metadata": {},
   "outputs": [
    {
     "data": {
      "text/plain": [
       "{'title': 'XYZ Book', 'author': 'Unknown', 'publish_year': 2023}"
      ]
     },
     "execution_count": 4,
     "metadata": {},
     "output_type": "execute_result"
    }
   ],
   "source": [
    "Book"
   ]
  },
  {
   "cell_type": "code",
   "execution_count": 5,
   "id": "10b5ce24",
   "metadata": {},
   "outputs": [],
   "source": [
    "Book['title']='Fav Boook'"
   ]
  },
  {
   "cell_type": "code",
   "execution_count": 6,
   "id": "4d4dc76e",
   "metadata": {},
   "outputs": [
    {
     "data": {
      "text/plain": [
       "{'title': 'Fav Boook', 'author': 'Unknown', 'publish_year': 2023}"
      ]
     },
     "execution_count": 6,
     "metadata": {},
     "output_type": "execute_result"
    }
   ],
   "source": [
    "Book"
   ]
  },
  {
   "cell_type": "code",
   "execution_count": 7,
   "id": "a15fad93",
   "metadata": {},
   "outputs": [
    {
     "data": {
      "text/plain": [
       "dict"
      ]
     },
     "execution_count": 7,
     "metadata": {},
     "output_type": "execute_result"
    }
   ],
   "source": [
    "type(Book)"
   ]
  },
  {
   "cell_type": "markdown",
   "id": "164f5156",
   "metadata": {},
   "source": [
    "# Create a dictionary of products with their prices. Write a program that calculates the total cost of a list of products"
   ]
  },
  {
   "cell_type": "code",
   "execution_count": 10,
   "id": "a15f4bd8",
   "metadata": {},
   "outputs": [
    {
     "name": "stdout",
     "output_type": "stream",
     "text": [
      "Total Cost: 190\n"
     ]
    }
   ],
   "source": [
    "def calculate_total_cost(product_prices,product_list):\n",
    "    total_cost=0\n",
    "    for product in product_list:\n",
    "        if product in product_prices:\n",
    "            total_cost += product_prices[product]\n",
    "    return total_cost        \n",
    "        \n",
    "product_prices=dict([\n",
    "    (\"apple\", 10),\n",
    "    (\"banana\", 20),\n",
    "    (\"orange\", 50),\n",
    "    (\"grapes\", 70),\n",
    "    (\"watermelon\", 40)\n",
    "])\n",
    "\n",
    "shopping_list=[\"apple\",\"banana\",\"orange\",\"grapes\",\"watermelon\"]\n",
    "               \n",
    "total_cost= calculate_total_cost(product_prices,shopping_list)\n",
    "               \n",
    "print(\"Total Cost:\",total_cost)"
   ]
  },
  {
   "cell_type": "markdown",
   "id": "10e3868e",
   "metadata": {},
   "source": [
    "# Given a list of names, create a dictionary where the keys are the names and the values are the number of times each name appears in the list."
   ]
  },
  {
   "cell_type": "code",
   "execution_count": 11,
   "id": "c1b5d0ea",
   "metadata": {},
   "outputs": [],
   "source": [
    "List=[\"Darshan\",\"Rudra\",\"Anand\",\"Manmohan\",\"Anand\",\"Pavan\",\"Darshan\",\"Anand\"]"
   ]
  },
  {
   "cell_type": "code",
   "execution_count": 13,
   "id": "ce2cae69",
   "metadata": {},
   "outputs": [],
   "source": [
    "Students= dict([\n",
    "    (\"Darshan\",2),\n",
    "    (\"Rudra\",1),\n",
    "    (\"Manmohan\",1),\n",
    "    (\"Anand\",3),\n",
    "    (\"Pavan\",1)\n",
    "])"
   ]
  },
  {
   "cell_type": "code",
   "execution_count": 15,
   "id": "80660c00",
   "metadata": {},
   "outputs": [
    {
     "data": {
      "text/plain": [
       "2"
      ]
     },
     "execution_count": 15,
     "metadata": {},
     "output_type": "execute_result"
    }
   ],
   "source": [
    "Students[\"Darshan\"]"
   ]
  },
  {
   "cell_type": "markdown",
   "id": "d2c48346",
   "metadata": {},
   "source": [
    "# Word Count"
   ]
  },
  {
   "cell_type": "code",
   "execution_count": 17,
   "id": "9b5bb125",
   "metadata": {},
   "outputs": [
    {
     "name": "stdout",
     "output_type": "stream",
     "text": [
      "{'this': 1, 'is': 1, 'a': 1, 'simple': 1, 'string': 1, 'that': 1, 'could': 1, 'be': 1, 'created': 1, 'by': 1, 'me': 1}\n"
     ]
    }
   ],
   "source": [
    "inputstring = \"This is a simple string  that could be created by me.\"\n",
    "words = inputstring.split()\n",
    "word_frequency = {}\n",
    "for word in words :\n",
    "    word = word.lower()\n",
    "    word = word.strip(\",!?.\")\n",
    "    if word in word_frequency :\n",
    "        word_frequency[word] += 1\n",
    "    else :\n",
    "        word_frequency[word] = 1\n",
    "print(word_frequency)"
   ]
  },
  {
   "cell_type": "markdown",
   "id": "cff06782",
   "metadata": {},
   "source": [
    "# Create a list of dictionaries, where each dictionary represents a student with keys like \"name\", \"age\", and \"grades\". Write a program that calculates the average grade of the students."
   ]
  },
  {
   "cell_type": "code",
   "execution_count": 20,
   "id": "80adf4b4",
   "metadata": {},
   "outputs": [
    {
     "name": "stdout",
     "output_type": "stream",
     "text": [
      "Average Grades 76.4\n"
     ]
    }
   ],
   "source": [
    "\n",
    "children = [{\"name\" : \"Darshan\", \"age\" : 23, \"grades\" : 70},\n",
    "           {\"name\" : \"Rudra\", \"age\" : 24, \"grades\" : 84},\n",
    "           {\"name\" : \"Manmohan\", \"age\": 29, \"grades\" : 40},\n",
    "           {\"name\" : \"Anand\", \"age\" : 25, \"grades\" : 99},\n",
    "           {\"name\" : \"Pavan\", \"age\" : 20, \"grades\" : 89}]\n",
    "average = 0\n",
    "C = 0\n",
    "for i in children :\n",
    "       for j in i :\n",
    "        if j == \"grades\" :\n",
    "            average+= i[j]\n",
    "            C+= 1\n",
    "print(\"Average Grades\",average/C)"
   ]
  },
  {
   "cell_type": "code",
   "execution_count": null,
   "id": "65094510",
   "metadata": {},
   "outputs": [],
   "source": []
  }
 ],
 "metadata": {
  "kernelspec": {
   "display_name": "Python 3 (ipykernel)",
   "language": "python",
   "name": "python3"
  },
  "language_info": {
   "codemirror_mode": {
    "name": "ipython",
    "version": 3
   },
   "file_extension": ".py",
   "mimetype": "text/x-python",
   "name": "python",
   "nbconvert_exporter": "python",
   "pygments_lexer": "ipython3",
   "version": "3.11.3"
  }
 },
 "nbformat": 4,
 "nbformat_minor": 5
}
