{
 "cells": [
  {
   "cell_type": "markdown",
   "id": "9279ce7f",
   "metadata": {},
   "source": [
    "# Lists"
   ]
  },
  {
   "cell_type": "raw",
   "id": "5012ac85",
   "metadata": {},
   "source": [
    "Lists are ordered.\n",
    "Lists can contain any arbitrary objects.\n",
    "List elements can be accessed by index.\n",
    "Lists can be nested to arbitrary depth.\n",
    "Lists are mutable.\n",
    "Lists are dynamic.\n",
    "Int,string,float,boolean"
   ]
  },
  {
   "cell_type": "code",
   "execution_count": 1,
   "id": "25ca11ab",
   "metadata": {},
   "outputs": [
    {
     "name": "stdout",
     "output_type": "stream",
     "text": [
      "['Rohit', 'Kishan', 'Kohli', 'Iyer', 'Pant', 'Pandya', 'Jadeja', 'Kuldeep', 'Bumrah', 'Shami', 'Siraj']\n"
     ]
    }
   ],
   "source": [
    "# Cricketer List\n",
    "a=[\"Rohit\",\"Kishan\",\"Kohli\",\"Iyer\",\"Pant\",\"Pandya\",\"Jadeja\",\"Kuldeep\",\"Bumrah\",\"Shami\",\"Siraj\"]\n",
    "print(a)"
   ]
  },
  {
   "cell_type": "code",
   "execution_count": 2,
   "id": "4347ca4f",
   "metadata": {},
   "outputs": [
    {
     "name": "stdout",
     "output_type": "stream",
     "text": [
      "['a', 5, 'c', True, 5.7]\n"
     ]
    }
   ],
   "source": [
    "str=[\"a\",5,\"c\",True,5.7]\n",
    "print(str)"
   ]
  },
  {
   "cell_type": "code",
   "execution_count": 3,
   "id": "62876018",
   "metadata": {},
   "outputs": [
    {
     "name": "stdout",
     "output_type": "stream",
     "text": [
      "[]\n"
     ]
    }
   ],
   "source": [
    "b=[]\n",
    "print (b)"
   ]
  },
  {
   "cell_type": "code",
   "execution_count": 4,
   "id": "58c373a4",
   "metadata": {},
   "outputs": [
    {
     "name": "stdout",
     "output_type": "stream",
     "text": [
      "Pandya\n"
     ]
    }
   ],
   "source": [
    "print(a[5])"
   ]
  },
  {
   "cell_type": "code",
   "execution_count": 5,
   "id": "df89a5f5",
   "metadata": {},
   "outputs": [
    {
     "name": "stdout",
     "output_type": "stream",
     "text": [
      "['Iyer', 'Pant', 'Pandya']\n"
     ]
    }
   ],
   "source": [
    "print(a[3:6])"
   ]
  },
  {
   "cell_type": "code",
   "execution_count": 6,
   "id": "fc6fe70f",
   "metadata": {},
   "outputs": [
    {
     "name": "stdout",
     "output_type": "stream",
     "text": [
      "['Rohit', 'Kishan', 'Kohli', 'Iyer', 'Pant']\n",
      "['Pandya', 'Jadeja', 'Kuldeep', 'Bumrah', 'Shami', 'Siraj']\n"
     ]
    }
   ],
   "source": [
    "print(a[:5])\n",
    "print(a[5:])"
   ]
  },
  {
   "cell_type": "code",
   "execution_count": 7,
   "id": "c8e56649",
   "metadata": {},
   "outputs": [
    {
     "name": "stdout",
     "output_type": "stream",
     "text": [
      "['Pandya', 'Jadeja', 'Kuldeep']\n"
     ]
    }
   ],
   "source": [
    "print(a[5:8])"
   ]
  },
  {
   "cell_type": "code",
   "execution_count": 8,
   "id": "f1036356",
   "metadata": {},
   "outputs": [
    {
     "name": "stdout",
     "output_type": "stream",
     "text": [
      "['Siraj', 'Shami', 'Bumrah', 'Kuldeep', 'Jadeja', 'Pandya', 'Pant', 'Iyer', 'Kohli', 'Kishan', 'Rohit']\n"
     ]
    }
   ],
   "source": [
    "print(a[::-1])"
   ]
  },
  {
   "cell_type": "code",
   "execution_count": 9,
   "id": "20db6d5a",
   "metadata": {},
   "outputs": [
    {
     "data": {
      "text/plain": [
       "True"
      ]
     },
     "execution_count": 9,
     "metadata": {},
     "output_type": "execute_result"
    }
   ],
   "source": [
    "'Iyer' in a"
   ]
  },
  {
   "cell_type": "code",
   "execution_count": 10,
   "id": "9ef3d136",
   "metadata": {},
   "outputs": [
    {
     "data": {
      "text/plain": [
       "False"
      ]
     },
     "execution_count": 10,
     "metadata": {},
     "output_type": "execute_result"
    }
   ],
   "source": [
    "'Surya' in a"
   ]
  },
  {
   "cell_type": "code",
   "execution_count": 11,
   "id": "4bb9dd9c",
   "metadata": {},
   "outputs": [
    {
     "data": {
      "text/plain": [
       "11"
      ]
     },
     "execution_count": 11,
     "metadata": {},
     "output_type": "execute_result"
    }
   ],
   "source": [
    "len(a)"
   ]
  },
  {
   "cell_type": "code",
   "execution_count": 12,
   "id": "a1fc3320",
   "metadata": {},
   "outputs": [],
   "source": [
    "c=[1,4,67,3,2,7,\"Hi\"]\n",
    "c[2]=\"hello\""
   ]
  },
  {
   "cell_type": "code",
   "execution_count": 13,
   "id": "b56eedb9",
   "metadata": {},
   "outputs": [
    {
     "name": "stdout",
     "output_type": "stream",
     "text": [
      "[1, 4, 'hello', 3, 2, 7, 'Hi']\n"
     ]
    }
   ],
   "source": [
    "print(c)"
   ]
  },
  {
   "cell_type": "code",
   "execution_count": 18,
   "id": "4e94aba7",
   "metadata": {},
   "outputs": [],
   "source": [
    "c= c +[\"Darshan\"]"
   ]
  },
  {
   "cell_type": "code",
   "execution_count": 19,
   "id": "4f1aa7bc",
   "metadata": {},
   "outputs": [
    {
     "name": "stdout",
     "output_type": "stream",
     "text": [
      "[1, 4, 'hello', 3, 2, 7, 'Hi', 'Darshan']\n"
     ]
    }
   ],
   "source": [
    "print(c)"
   ]
  },
  {
   "cell_type": "code",
   "execution_count": 20,
   "id": "4ce217f6",
   "metadata": {},
   "outputs": [],
   "source": [
    "c+=[4,\"abc\"]"
   ]
  },
  {
   "cell_type": "code",
   "execution_count": 21,
   "id": "73a4ab85",
   "metadata": {},
   "outputs": [
    {
     "name": "stdout",
     "output_type": "stream",
     "text": [
      "[1, 4, 'hello', 3, 2, 7, 'Hi', 'Darshan', 4, 'abc']\n"
     ]
    }
   ],
   "source": [
    "print(c)"
   ]
  },
  {
   "cell_type": "code",
   "execution_count": 22,
   "id": "ad39f89b",
   "metadata": {},
   "outputs": [],
   "source": [
    "# Dictionary\n",
    "d={'a':10,'b':40,'c':37}"
   ]
  },
  {
   "cell_type": "code",
   "execution_count": 23,
   "id": "6483590d",
   "metadata": {},
   "outputs": [
    {
     "data": {
      "text/plain": [
       "{'a': 10, 'b': 40, 'c': 37}"
      ]
     },
     "execution_count": 23,
     "metadata": {},
     "output_type": "execute_result"
    }
   ],
   "source": [
    "d"
   ]
  },
  {
   "cell_type": "code",
   "execution_count": 24,
   "id": "0b441a3c",
   "metadata": {},
   "outputs": [
    {
     "data": {
      "text/plain": [
       "10"
      ]
     },
     "execution_count": 24,
     "metadata": {},
     "output_type": "execute_result"
    }
   ],
   "source": [
    "d['a']"
   ]
  },
  {
   "cell_type": "code",
   "execution_count": 25,
   "id": "916d9c6a",
   "metadata": {},
   "outputs": [],
   "source": [
    "del d"
   ]
  },
  {
   "cell_type": "code",
   "execution_count": 28,
   "id": "54195cdc",
   "metadata": {},
   "outputs": [],
   "source": [
    "d={'a':10,'b':40,'c':37}\n"
   ]
  },
  {
   "cell_type": "code",
   "execution_count": 29,
   "id": "f3d09a8e",
   "metadata": {},
   "outputs": [],
   "source": [
    "d['k']=10"
   ]
  },
  {
   "cell_type": "code",
   "execution_count": 30,
   "id": "00536698",
   "metadata": {},
   "outputs": [
    {
     "data": {
      "text/plain": [
       "{'a': 10, 'b': 40, 'c': 37, 'k': 10}"
      ]
     },
     "execution_count": 30,
     "metadata": {},
     "output_type": "execute_result"
    }
   ],
   "source": [
    "d"
   ]
  },
  {
   "cell_type": "code",
   "execution_count": 34,
   "id": "b04f4637",
   "metadata": {},
   "outputs": [
    {
     "data": {
      "text/plain": [
       "dict_values([10, 40, 37, 10])"
      ]
     },
     "execution_count": 34,
     "metadata": {},
     "output_type": "execute_result"
    }
   ],
   "source": [
    "d.values()"
   ]
  },
  {
   "cell_type": "code",
   "execution_count": 35,
   "id": "5414fd2c",
   "metadata": {},
   "outputs": [
    {
     "data": {
      "text/plain": [
       "10"
      ]
     },
     "execution_count": 35,
     "metadata": {},
     "output_type": "execute_result"
    }
   ],
   "source": [
    "d.pop('k')"
   ]
  },
  {
   "cell_type": "code",
   "execution_count": 37,
   "id": "fddccef3",
   "metadata": {},
   "outputs": [
    {
     "data": {
      "text/plain": [
       "40"
      ]
     },
     "execution_count": 37,
     "metadata": {},
     "output_type": "execute_result"
    }
   ],
   "source": [
    "d.pop('b')\n"
   ]
  },
  {
   "cell_type": "code",
   "execution_count": 38,
   "id": "f943e952",
   "metadata": {},
   "outputs": [
    {
     "data": {
      "text/plain": [
       "{'a': 10, 'c': 37}"
      ]
     },
     "execution_count": 38,
     "metadata": {},
     "output_type": "execute_result"
    }
   ],
   "source": [
    "d\n"
   ]
  },
  {
   "cell_type": "code",
   "execution_count": null,
   "id": "b3af7150",
   "metadata": {},
   "outputs": [],
   "source": []
  }
 ],
 "metadata": {
  "kernelspec": {
   "display_name": "Python 3 (ipykernel)",
   "language": "python",
   "name": "python3"
  },
  "language_info": {
   "codemirror_mode": {
    "name": "ipython",
    "version": 3
   },
   "file_extension": ".py",
   "mimetype": "text/x-python",
   "name": "python",
   "nbconvert_exporter": "python",
   "pygments_lexer": "ipython3",
   "version": "3.11.3"
  }
 },
 "nbformat": 4,
 "nbformat_minor": 5
}
