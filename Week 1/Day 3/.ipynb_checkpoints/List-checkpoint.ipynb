{
 "cells": [
  {
   "cell_type": "markdown",
   "id": "f17effe9",
   "metadata": {},
   "source": [
    "# 1. Lists: "
   ]
  },
  {
   "cell_type": "markdown",
   "id": "2722a599",
   "metadata": {},
   "source": [
    "- Create a list of your favorite movies. Add, remove, and modify items in the list. \n",
    "- Write a program that takes a list of numbers and outputs the average. \n",
    "- Create a list of mixed data types (e.g., strings, numbers, booleans). Write a program that separates them into individual lists based on their data type"
   ]
  },
  {
   "cell_type": "code",
   "execution_count": 1,
   "id": "e7451545",
   "metadata": {},
   "outputs": [],
   "source": [
    "Movies=[\"Gadar\",\"OMG\",\"3 Idiots\",\"Chhichore\",\"MS Dhoni\"]"
   ]
  },
  {
   "cell_type": "code",
   "execution_count": 2,
   "id": "0648682f",
   "metadata": {},
   "outputs": [
    {
     "name": "stdout",
     "output_type": "stream",
     "text": [
      "['Gadar', 'OMG', '3 Idiots', 'Chhichore', 'MS Dhoni']\n"
     ]
    }
   ],
   "source": [
    "print(Movies)"
   ]
  },
  {
   "cell_type": "code",
   "execution_count": 3,
   "id": "f9dcd855",
   "metadata": {},
   "outputs": [],
   "source": [
    "#ADD Movie\n",
    "Movies.append(\"Gadar 2\")"
   ]
  },
  {
   "cell_type": "code",
   "execution_count": 4,
   "id": "6aa9c57a",
   "metadata": {},
   "outputs": [
    {
     "name": "stdout",
     "output_type": "stream",
     "text": [
      "['Gadar', 'OMG', '3 Idiots', 'Chhichore', 'MS Dhoni', 'Gadar 2']\n"
     ]
    }
   ],
   "source": [
    "print(Movies)"
   ]
  },
  {
   "cell_type": "code",
   "execution_count": 5,
   "id": "d6ffe8d4",
   "metadata": {},
   "outputs": [],
   "source": [
    "Movies+=[\"Chello Divas\",\"Thai Jase\"]"
   ]
  },
  {
   "cell_type": "code",
   "execution_count": 6,
   "id": "c9ed73fa",
   "metadata": {},
   "outputs": [
    {
     "name": "stdout",
     "output_type": "stream",
     "text": [
      "['Gadar', 'OMG', '3 Idiots', 'Chhichore', 'MS Dhoni', 'Gadar 2', 'Chello Divas', 'Thai Jase']\n"
     ]
    }
   ],
   "source": [
    "print(Movies)"
   ]
  },
  {
   "cell_type": "code",
   "execution_count": 7,
   "id": "e0bb3eb3",
   "metadata": {},
   "outputs": [],
   "source": [
    "Movies.insert(3,\"ab\")\n",
    "\n",
    "#UPDATE IN LIST\n",
    "Movies[1]=\"OMG 2\""
   ]
  },
  {
   "cell_type": "code",
   "execution_count": 8,
   "id": "d4e9c2f1",
   "metadata": {},
   "outputs": [
    {
     "name": "stdout",
     "output_type": "stream",
     "text": [
      "['Gadar', 'OMG 2', '3 Idiots', 'ab', 'Chhichore', 'MS Dhoni', 'Gadar 2', 'Chello Divas', 'Thai Jase']\n"
     ]
    }
   ],
   "source": [
    "print(Movies)"
   ]
  },
  {
   "cell_type": "code",
   "execution_count": 9,
   "id": "597f20ac",
   "metadata": {},
   "outputs": [],
   "source": [
    "# remove from list\n",
    "Movies.remove(\"ab\")"
   ]
  },
  {
   "cell_type": "code",
   "execution_count": 10,
   "id": "32e41028",
   "metadata": {},
   "outputs": [
    {
     "name": "stdout",
     "output_type": "stream",
     "text": [
      "['Gadar', 'OMG 2', '3 Idiots', 'Chhichore', 'MS Dhoni', 'Gadar 2', 'Chello Divas', 'Thai Jase']\n"
     ]
    }
   ],
   "source": [
    "print(Movies)"
   ]
  },
  {
   "cell_type": "code",
   "execution_count": 11,
   "id": "014c3790",
   "metadata": {},
   "outputs": [
    {
     "data": {
      "text/plain": [
       "'Thai Jase'"
      ]
     },
     "execution_count": 11,
     "metadata": {},
     "output_type": "execute_result"
    }
   ],
   "source": [
    "Movies.pop()"
   ]
  },
  {
   "cell_type": "code",
   "execution_count": 12,
   "id": "ac396509",
   "metadata": {},
   "outputs": [
    {
     "name": "stdout",
     "output_type": "stream",
     "text": [
      "['Gadar', 'OMG 2', '3 Idiots', 'Chhichore', 'MS Dhoni', 'Gadar 2', 'Chello Divas']\n"
     ]
    }
   ],
   "source": [
    "print(Movies)"
   ]
  },
  {
   "cell_type": "code",
   "execution_count": null,
   "id": "66834ca0",
   "metadata": {},
   "outputs": [],
   "source": [
    "Movies[0]=\"Thai\""
   ]
  },
  {
   "cell_type": "markdown",
   "id": "f420ff7b",
   "metadata": {},
   "source": [
    "# Write a program that takes a list of numbers and outputs the average. "
   ]
  },
  {
   "cell_type": "code",
   "execution_count": 15,
   "id": "463e505b",
   "metadata": {},
   "outputs": [
    {
     "name": "stdout",
     "output_type": "stream",
     "text": [
      "Average: 44.285714285714285\n"
     ]
    }
   ],
   "source": [
    "def calculate_avg(numbers):\n",
    "    sum_total=sum(numbers)\n",
    "    avg=sum_total/len(numbers)\n",
    "    return avg\n",
    "\n",
    "List=[10,20,40,50,20,70,100]\n",
    "average=calculate_avg(List)\n",
    "print(\"Average:\",average)"
   ]
  },
  {
   "cell_type": "markdown",
   "id": "8e43c0fe",
   "metadata": {},
   "source": [
    "# Create a list of mixed data types (e.g., strings, numbers, booleans). \n",
    "Write a program that separates \n",
    "them into individual lists based on their data type."
   ]
  },
  {
   "cell_type": "code",
   "execution_count": 34,
   "id": "794b4126",
   "metadata": {},
   "outputs": [
    {
     "name": "stdout",
     "output_type": "stream",
     "text": [
      "Strings: ['A', 'Hello', 'tHANK YOU']\n",
      "Numbers: [60, 10, 30]\n",
      "Boolean: [True, False]\n"
     ]
    }
   ],
   "source": [
    "def seprate(list):\n",
    "    string_list = []\n",
    "    number_list = []\n",
    "    boolean_list = []\n",
    "\n",
    "    for item in list:\n",
    "        if isinstance(item,bool):\n",
    "            boolean_list.append(item)\n",
    "        elif isinstance(item,str):\n",
    "            string_list.append(item)\n",
    "        elif isinstance(item,int):\n",
    "            number_list.append(item) \n",
    "            \n",
    "    return string_list, number_list, boolean_list   \n",
    "                      \n",
    "                      \n",
    "mixed=['A',60,True,10,'Hello',30,False,'tHANK YOU']\n",
    "\n",
    "string,number,boolean=seprate(mixed)\n",
    "\n",
    "print(\"Strings:\",string)\n",
    "print(\"Numbers:\",number)\n",
    "print(\"Boolean:\",boolean)"
   ]
  },
  {
   "cell_type": "code",
   "execution_count": null,
   "id": "55120674",
   "metadata": {},
   "outputs": [],
   "source": []
  },
  {
   "cell_type": "code",
   "execution_count": null,
   "id": "2f98ef28",
   "metadata": {},
   "outputs": [],
   "source": []
  }
 ],
 "metadata": {
  "kernelspec": {
   "display_name": "Python 3 (ipykernel)",
   "language": "python",
   "name": "python3"
  },
  "language_info": {
   "codemirror_mode": {
    "name": "ipython",
    "version": 3
   },
   "file_extension": ".py",
   "mimetype": "text/x-python",
   "name": "python",
   "nbconvert_exporter": "python",
   "pygments_lexer": "ipython3",
   "version": "3.11.3"
  }
 },
 "nbformat": 4,
 "nbformat_minor": 5
}
