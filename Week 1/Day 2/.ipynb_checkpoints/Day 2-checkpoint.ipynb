{
 "cells": [
  {
   "cell_type": "markdown",
   "id": "4cae8b63",
   "metadata": {},
   "source": [
    "# 1. Function Creation: "
   ]
  },
  {
   "cell_type": "code",
   "execution_count": 5,
   "id": "ed6e29a5",
   "metadata": {},
   "outputs": [
    {
     "name": "stdout",
     "output_type": "stream",
     "text": [
      "Hello, Darshan Rana\n"
     ]
    }
   ],
   "source": [
    "# - Write a function called `greet` that takes a name as an argument and prints \"Hello, [name]!\". \n",
    "\n",
    "def greet(name):\n",
    "    print(\"Hello, \"+ name)\n",
    "\n",
    "greet(\"Darshan Rana\")"
   ]
  },
  {
   "cell_type": "code",
   "execution_count": 4,
   "id": "d493ce94",
   "metadata": {},
   "outputs": [
    {
     "name": "stdout",
     "output_type": "stream",
     "text": [
      "Enter the Leangth:3\n",
      "Enter the width:4\n",
      "area of given leangth and width is: 12\n"
     ]
    }
   ],
   "source": [
    "#- Create a function `calculate_area` that takes the length and width of a rectangle and returns its area. \n",
    "\n",
    "def calculate_area(l,w):\n",
    "    area=l*w\n",
    "    print(\"area of given leangth and width is:\",area)\n",
    "    \n",
    "    \n",
    "l=int(input(\"Enter the Leangth:\"))\n",
    "w=int(input(\"Enter the width:\"))\n",
    "calculate_area(l,w)\n",
    "\n"
   ]
  },
  {
   "cell_type": "markdown",
   "id": "ad5084c9",
   "metadata": {},
   "source": [
    "# 2. Exploring Built-in Functions: \n",
    "   - Use the `len()` function to find the length of a string. \n"
   ]
  },
  {
   "cell_type": "code",
   "execution_count": 6,
   "id": "af068aab",
   "metadata": {},
   "outputs": [
    {
     "name": "stdout",
     "output_type": "stream",
     "text": [
      "16\n"
     ]
    }
   ],
   "source": [
    "str=\"This is a string\"\n",
    "print(len(str))"
   ]
  },
  {
   "cell_type": "code",
   "execution_count": 8,
   "id": "10e202fc",
   "metadata": {},
   "outputs": [
    {
     "data": {
      "text/plain": [
       "[1, 3, 3, 10, 65, 68, 70, 93]"
      ]
     },
     "execution_count": 8,
     "metadata": {},
     "output_type": "execute_result"
    }
   ],
   "source": [
    "numbers = [68,93,3,10,65,70,3,1]\n",
    "sorted(numbers)"
   ]
  },
  {
   "cell_type": "code",
   "execution_count": null,
   "id": "d14e06eb",
   "metadata": {},
   "outputs": [],
   "source": []
  },
  {
   "cell_type": "markdown",
   "id": "1c0e34dd",
   "metadata": {},
   "source": [
    "# 3. **Module Exploration**: \n",
    "   - Create a module named `math_operations` that contains functions for addition, subtraction, \n",
    "multiplication, and division. \n",
    "   - Import the `math_operations` module in another Python script and use its functions. "
   ]
  },
  {
   "cell_type": "markdown",
   "id": "893096f6",
   "metadata": {},
   "source": [
    "Python modules are python files that contain python code that we can use within our python files ensuring simplicity and code reusability.\n"
   ]
  },
  {
   "cell_type": "markdown",
   "id": "7d4a38ff",
   "metadata": {},
   "source": [
    "csv, datetime, json, math, random, sqlite3, statistics, tkinter, turtle, etc."
   ]
  },
  {
   "cell_type": "code",
   "execution_count": 8,
   "id": "b923bd6e",
   "metadata": {},
   "outputs": [
    {
     "name": "stdout",
     "output_type": "stream",
     "text": [
      "Sin(0)= 0.0\n",
      "Sin(30)= 0.49999999999999994\n",
      "Sin(45)= 0.7071067811865476\n",
      "Sin(60)= 0.8660254037844386\n",
      "Sin(90)= 1.0\n"
     ]
    }
   ],
   "source": [
    "import math\n",
    "\n",
    "print(\"Sin(0)=\",math.sin(0))\n",
    "print(\"Sin(30)=\",math.sin(math.pi/6))\n",
    "print(\"Sin(45)=\",math.sin(math.pi/4))\n",
    "print(\"Sin(60)=\",math.sin(math.pi/3))\n",
    "print(\"Sin(90)=\",math.sin(math.pi/2))"
   ]
  },
  {
   "cell_type": "code",
   "execution_count": 13,
   "id": "3c52f82c",
   "metadata": {},
   "outputs": [],
   "source": [
    "def add(a,b):\n",
    "    return a+b\n",
    "    \n",
    "def sub(a,b):\n",
    "    return a-b\n",
    "\n",
    "def mul(a,b):\n",
    "    return a*b\n",
    "    \n",
    "def div(a,b):\n",
    "    return a/b  "
   ]
  },
  {
   "cell_type": "code",
   "execution_count": 14,
   "id": "d1f9873b",
   "metadata": {},
   "outputs": [
    {
     "name": "stdout",
     "output_type": "stream",
     "text": [
      "Enter first number10\n",
      "Enter second number5\n",
      "Addion of these two integer is 15\n",
      "Substraction of these two integer is 5\n",
      "Mulltiplication of these two integer is 50\n",
      "Divison of these two integer is 2.0\n"
     ]
    }
   ],
   "source": [
    "num1=int(input(\"Enter first number:\"))\n",
    "num2=int(input(\"Enter second number;\"))\n",
    "\n",
    "print(\"Addion of these two integer is;\",add(num1,num2))\n",
    "print(\"Substraction of these two integer is;\",sub(num1,num2))\n",
    "print(\"Mulltiplication of these two integer is;\",mul(num1,num2))\n",
    "print(\"Divison of these two integer is;\",div(num1,num2))"
   ]
  },
  {
   "cell_type": "code",
   "execution_count": 9,
   "id": "73e99f2e",
   "metadata": {},
   "outputs": [
    {
     "name": "stdout",
     "output_type": "stream",
     "text": [
      "Square Root of 36 : 6.0\n",
      "3 to the power of 4 : 81.0\n"
     ]
    }
   ],
   "source": [
    "import math as m\n",
    "\n",
    "print(\"Square Root of 36 :\", m.sqrt(36))\n",
    "print(\"3 to the power of 4 :\", m.pow(3,4)) "
   ]
  },
  {
   "cell_type": "markdown",
   "id": "8390a4b0",
   "metadata": {},
   "source": [
    "# 4. **Advanced Function Concepts**: "
   ]
  },
  {
   "cell_type": "markdown",
   "id": "70de1339",
   "metadata": {},
   "source": [
    " Write a function that accepts a variable number of arguments using `*args`. \n",
    " Create a function that accepts key-value pairs using `**kwargs`. \n",
    " "
   ]
  },
  {
   "cell_type": "markdown",
   "id": "b2d45ce5",
   "metadata": {},
   "source": [
    "Python *args Python Glossary Arbitrary Arguments, *args If you do not know how many arguments that will be passed into your function, add a * before the parameter name in the function definition. This way the function will receive a tuple of arguments, and can access the items accordingly: Example Get your own Python Server"
   ]
  },
  {
   "cell_type": "code",
   "execution_count": 24,
   "id": "1f3a943d",
   "metadata": {},
   "outputs": [
    {
     "name": "stdout",
     "output_type": "stream",
     "text": [
      "1\n",
      "2\n",
      "3\n",
      "4\n",
      "5\n",
      "6\n"
     ]
    }
   ],
   "source": [
    "def my_function(*args):\n",
    "    for arg in args:\n",
    "        print(arg)\n",
    "\n",
    "my_function(1,2,3,4,5,6)\n",
    "\n",
    "\n",
    "# my_function(\"a\",\"b\")\n"
   ]
  },
  {
   "cell_type": "code",
   "execution_count": 22,
   "id": "672551d1",
   "metadata": {},
   "outputs": [
    {
     "name": "stdout",
     "output_type": "stream",
     "text": [
      "name: Darshan\n",
      "age: 23\n",
      "city: Khambhat\n"
     ]
    }
   ],
   "source": [
    "def my_function(**kwargs):\n",
    "    for key, value in kwargs.items():\n",
    "        print(f\"{key}: {value}\")\n",
    "\n",
    "# Example usage\n",
    "my_function(name='Darshan', age=23, city='Khambhat')\n",
    "#my_function(item='book', price=20, author='xyz', year=2022)\n"
   ]
  },
  {
   "cell_type": "markdown",
   "id": "c4d728ad",
   "metadata": {},
   "source": [
    "# 5. **Challenge Exercise**: "
   ]
  },
  {
   "cell_type": "markdown",
   "id": "7ebeee2f",
   "metadata": {},
   "source": [
    "Create a module named `string operations` that contains functions for string reversal, capitalization, \n",
    "and checking if a string is a palindrome. Test the module by importing it in another script."
   ]
  },
  {
   "cell_type": "code",
   "execution_count": 29,
   "id": "bd643c04",
   "metadata": {},
   "outputs": [
    {
     "name": "stdout",
     "output_type": "stream",
     "text": [
      "nahsRaD\n",
      "DARSHAN\n",
      "Darshan\n",
      "darshan\n"
     ]
    }
   ],
   "source": [
    "str1=\"DaRshan\"\n",
    "\n",
    "print(str1[::-1])\n",
    "print(str1.upper())\n",
    "print(str1.capitalize())\n",
    "print(str1.lower())\n"
   ]
  },
  {
   "cell_type": "code",
   "execution_count": null,
   "id": "e9050f6e",
   "metadata": {},
   "outputs": [],
   "source": [
    "#Palindrom\n",
    "# function which return reverse of a string\n",
    "\n",
    "def isPalindrome(s):\n",
    "    return s == s[::-1]\n",
    "\n",
    "\n",
    "# Driver code\n",
    "s = \"malayalam\"\n",
    "ans = isPalindrome(s)\n",
    "\n",
    "if ans:\n",
    "\tprint(\"Yes\")\n",
    "else:\n",
    "\tprint(\"No\")\n"
   ]
  }
 ],
 "metadata": {
  "kernelspec": {
   "display_name": "Python 3 (ipykernel)",
   "language": "python",
   "name": "python3"
  },
  "language_info": {
   "codemirror_mode": {
    "name": "ipython",
    "version": 3
   },
   "file_extension": ".py",
   "mimetype": "text/x-python",
   "name": "python",
   "nbconvert_exporter": "python",
   "pygments_lexer": "ipython3",
   "version": "3.11.3"
  }
 },
 "nbformat": 4,
 "nbformat_minor": 5
}
