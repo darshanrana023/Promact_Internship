{
 "cells": [
  {
   "cell_type": "code",
   "execution_count": 1,
   "id": "7a35b9db",
   "metadata": {},
   "outputs": [
    {
     "name": "stdout",
     "output_type": "stream",
     "text": [
      "Hello World\n"
     ]
    }
   ],
   "source": [
    "print(\"Hello World\")"
   ]
  },
  {
   "cell_type": "code",
   "execution_count": 2,
   "id": "fb1705b1",
   "metadata": {},
   "outputs": [
    {
     "name": "stdout",
     "output_type": "stream",
     "text": [
      "Enter the first integer:9\n",
      "Enter the second integer:8\n",
      "Enter the third integer:6\n",
      "Largest integer is: 9\n"
     ]
    }
   ],
   "source": [
    "num1=int(input(\"Enter the first integer:\"))\n",
    "num2=int(input(\"Enter the second integer:\"))\n",
    "num3=int(input(\"Enter the third integer:\"))\n",
    "\n",
    "if (num1>=num2) and (num1>=num3):\n",
    "    largest=num1\n",
    "elif (num2>=num1) and (num2>=num3):\n",
    "    largest=num2\n",
    "else:\n",
    "    largest=num3\n",
    "\n",
    "print(\"Largest integer is:\",largest)    \n",
    "    "
   ]
  },
  {
   "cell_type": "code",
   "execution_count": 3,
   "id": "b3b41760",
   "metadata": {},
   "outputs": [
    {
     "name": "stdout",
     "output_type": "stream",
     "text": [
      "Apple\n",
      "Banana\n",
      "Graps\n"
     ]
    }
   ],
   "source": [
    "fruits=[\"Apple\",\"Banana\",\"Graps\"]\n",
    "for i in fruits:\n",
    "    print(i)"
   ]
  },
  {
   "cell_type": "code",
   "execution_count": 4,
   "id": "1e17e5b2",
   "metadata": {},
   "outputs": [
    {
     "name": "stdout",
     "output_type": "stream",
     "text": [
      "B\n",
      "a\n",
      "n\n",
      "a\n",
      "n\n",
      "a\n"
     ]
    }
   ],
   "source": [
    "for x in \"Banana\":\n",
    "    print (x)"
   ]
  },
  {
   "cell_type": "code",
   "execution_count": 5,
   "id": "0c79e1ce",
   "metadata": {},
   "outputs": [
    {
     "name": "stdout",
     "output_type": "stream",
     "text": [
      "0\n",
      "1\n",
      "2\n",
      "3\n",
      "4\n",
      "5\n",
      "6\n",
      "7\n",
      "8\n",
      "9\n"
     ]
    }
   ],
   "source": [
    "for a in range (10):\n",
    "    print (a)"
   ]
  },
  {
   "cell_type": "code",
   "execution_count": 6,
   "id": "5f37e97e",
   "metadata": {},
   "outputs": [
    {
     "name": "stdout",
     "output_type": "stream",
     "text": [
      "10\n",
      "17\n",
      "24\n",
      "31\n",
      "38\n",
      "45\n",
      "52\n",
      "59\n",
      "66\n",
      "73\n",
      "80\n",
      "87\n",
      "94\n",
      "101\n",
      "108\n",
      "115\n",
      "122\n",
      "129\n",
      "136\n",
      "143\n",
      "150\n",
      "157\n",
      "164\n",
      "171\n",
      "178\n",
      "185\n",
      "192\n",
      "199\n"
     ]
    }
   ],
   "source": [
    "for a in range (10,200,7):\n",
    "    print (a)"
   ]
  },
  {
   "cell_type": "code",
   "execution_count": 7,
   "id": "e3cb0766",
   "metadata": {},
   "outputs": [
    {
     "name": "stdout",
     "output_type": "stream",
     "text": [
      "*****\n",
      "****\n",
      "***\n",
      "**\n",
      "*\n"
     ]
    }
   ],
   "source": [
    "n=5\n",
    "for i in range (n) :\n",
    "    for j in range(i,n):\n",
    "        print(\"*\", end=\"\")\n",
    "        \n",
    "    print(\"\")"
   ]
  },
  {
   "cell_type": "code",
   "execution_count": 8,
   "id": "11cd82d3",
   "metadata": {},
   "outputs": [
    {
     "name": "stdout",
     "output_type": "stream",
     "text": [
      "****"
     ]
    }
   ],
   "source": [
    "for j in range(i):\n",
    "        print(\"*\", end=\"\")"
   ]
  },
  {
   "cell_type": "code",
   "execution_count": 9,
   "id": "6d823a21",
   "metadata": {},
   "outputs": [
    {
     "name": "stdout",
     "output_type": "stream",
     "text": [
      "Enter Any Integer:4\n",
      "4 is even integer\n"
     ]
    }
   ],
   "source": [
    "b=int(input(\"Enter Any Integer:\"))\n",
    "if(b%2==0):\n",
    "    print(b,\"is even integer\")\n",
    "else:\n",
    "    print(b,\"is odd integer\")\n",
    "    \n"
   ]
  },
  {
   "cell_type": "code",
   "execution_count": 10,
   "id": "cdef2900",
   "metadata": {},
   "outputs": [
    {
     "name": "stdout",
     "output_type": "stream",
     "text": [
      "8421\n"
     ]
    }
   ],
   "source": [
    "import random \n",
    "a=random.randint(1000,9999)\n",
    "print(a)"
   ]
  },
  {
   "cell_type": "code",
   "execution_count": 11,
   "id": "ed0f3f76",
   "metadata": {},
   "outputs": [],
   "source": [
    "str1 = \"Python is programming Language\""
   ]
  },
  {
   "cell_type": "code",
   "execution_count": 12,
   "id": "2e972080",
   "metadata": {},
   "outputs": [
    {
     "name": "stdout",
     "output_type": "stream",
     "text": [
      "Python is programming Language\n"
     ]
    }
   ],
   "source": [
    "print(str1)"
   ]
  },
  {
   "cell_type": "code",
   "execution_count": 13,
   "id": "77e409fe",
   "metadata": {},
   "outputs": [
    {
     "name": "stdout",
     "output_type": "stream",
     "text": [
      "y\n"
     ]
    }
   ],
   "source": [
    "print(str1[1])"
   ]
  },
  {
   "cell_type": "code",
   "execution_count": 14,
   "id": "0bfd7963",
   "metadata": {},
   "outputs": [
    {
     "name": "stdout",
     "output_type": "stream",
     "text": [
      "thon is \n"
     ]
    }
   ],
   "source": [
    "print (str1[2:10])"
   ]
  },
  {
   "cell_type": "code",
   "execution_count": 15,
   "id": "787695e6",
   "metadata": {},
   "outputs": [
    {
     "name": "stdout",
     "output_type": "stream",
     "text": [
      "Python is programming Language\n"
     ]
    }
   ],
   "source": [
    "print (str1[:])"
   ]
  },
  {
   "cell_type": "code",
   "execution_count": 16,
   "id": "9d090628",
   "metadata": {},
   "outputs": [],
   "source": [
    "del str1"
   ]
  },
  {
   "cell_type": "code",
   "execution_count": 18,
   "id": "70a29ab6",
   "metadata": {},
   "outputs": [
    {
     "name": "stdout",
     "output_type": "stream",
     "text": [
      "python programming language\n"
     ]
    }
   ],
   "source": [
    "str2=\"{} {} {}\".format('python','programming','language')\n",
    "print (str2)"
   ]
  },
  {
   "cell_type": "code",
   "execution_count": 19,
   "id": "4715e913",
   "metadata": {},
   "outputs": [
    {
     "name": "stdout",
     "output_type": "stream",
     "text": [
      "programming python language\n"
     ]
    }
   ],
   "source": [
    "str3=\"{1} {0} {2}\".format('python','programming','language')\n",
    "print (str3)"
   ]
  },
  {
   "cell_type": "code",
   "execution_count": null,
   "id": "67c12158",
   "metadata": {},
   "outputs": [],
   "source": []
  }
 ],
 "metadata": {
  "kernelspec": {
   "display_name": "Python 3 (ipykernel)",
   "language": "python",
   "name": "python3"
  },
  "language_info": {
   "codemirror_mode": {
    "name": "ipython",
    "version": 3
   },
   "file_extension": ".py",
   "mimetype": "text/x-python",
   "name": "python",
   "nbconvert_exporter": "python",
   "pygments_lexer": "ipython3",
   "version": "3.11.3"
  }
 },
 "nbformat": 4,
 "nbformat_minor": 5
}
