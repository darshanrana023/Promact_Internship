{
 "cells": [
  {
   "cell_type": "code",
   "execution_count": 1,
   "id": "14fb9377",
   "metadata": {},
   "outputs": [],
   "source": [
    "import pandas as pd\n",
    "import numpy as np\n",
    "import matplotlib.pyplot as plt\n",
    "import seaborn as sns"
   ]
  },
  {
   "cell_type": "code",
   "execution_count": 2,
   "id": "f2b4b3f2",
   "metadata": {},
   "outputs": [],
   "source": [
    "file=pd.read_csv(\"business.csv\")"
   ]
  },
  {
   "cell_type": "code",
   "execution_count": 3,
   "id": "583a863b",
   "metadata": {},
   "outputs": [
    {
     "data": {
      "text/html": [
       "<div>\n",
       "<style scoped>\n",
       "    .dataframe tbody tr th:only-of-type {\n",
       "        vertical-align: middle;\n",
       "    }\n",
       "\n",
       "    .dataframe tbody tr th {\n",
       "        vertical-align: top;\n",
       "    }\n",
       "\n",
       "    .dataframe thead th {\n",
       "        text-align: right;\n",
       "    }\n",
       "</style>\n",
       "<table border=\"1\" class=\"dataframe\">\n",
       "  <thead>\n",
       "    <tr style=\"text-align: right;\">\n",
       "      <th></th>\n",
       "      <th>period</th>\n",
       "      <th>series_reference</th>\n",
       "      <th>region_name</th>\n",
       "      <th>filled jobs</th>\n",
       "      <th>filled jobs revised</th>\n",
       "      <th>filled jobs diff</th>\n",
       "      <th>filled jobs % diff</th>\n",
       "      <th>total_earnings</th>\n",
       "      <th>total earnings revised</th>\n",
       "      <th>earnings diff</th>\n",
       "      <th>earnings % diff</th>\n",
       "    </tr>\n",
       "  </thead>\n",
       "  <tbody>\n",
       "    <tr>\n",
       "      <th>0</th>\n",
       "      <td>2020.09</td>\n",
       "      <td>BDCQ.SED1RA</td>\n",
       "      <td>Northland</td>\n",
       "      <td>65520</td>\n",
       "      <td>65904</td>\n",
       "      <td>384</td>\n",
       "      <td>0.6</td>\n",
       "      <td>953</td>\n",
       "      <td>959</td>\n",
       "      <td>6</td>\n",
       "      <td>0.6</td>\n",
       "    </tr>\n",
       "    <tr>\n",
       "      <th>1</th>\n",
       "      <td>2020.09</td>\n",
       "      <td>BDCQ.SED1RB</td>\n",
       "      <td>Auckland</td>\n",
       "      <td>708372</td>\n",
       "      <td>714506</td>\n",
       "      <td>6134</td>\n",
       "      <td>0.9</td>\n",
       "      <td>12420</td>\n",
       "      <td>12530</td>\n",
       "      <td>110</td>\n",
       "      <td>0.9</td>\n",
       "    </tr>\n",
       "    <tr>\n",
       "      <th>2</th>\n",
       "      <td>2020.09</td>\n",
       "      <td>BDCQ.SED1RC</td>\n",
       "      <td>Waikato</td>\n",
       "      <td>198776</td>\n",
       "      <td>200265</td>\n",
       "      <td>1489</td>\n",
       "      <td>0.7</td>\n",
       "      <td>3041</td>\n",
       "      <td>3058</td>\n",
       "      <td>17</td>\n",
       "      <td>0.6</td>\n",
       "    </tr>\n",
       "    <tr>\n",
       "      <th>3</th>\n",
       "      <td>2020.09</td>\n",
       "      <td>BDCQ.SED1RD</td>\n",
       "      <td>Bay of Plenty</td>\n",
       "      <td>127323</td>\n",
       "      <td>128540</td>\n",
       "      <td>1217</td>\n",
       "      <td>1.0</td>\n",
       "      <td>1881</td>\n",
       "      <td>1899</td>\n",
       "      <td>18</td>\n",
       "      <td>1.0</td>\n",
       "    </tr>\n",
       "    <tr>\n",
       "      <th>4</th>\n",
       "      <td>2020.09</td>\n",
       "      <td>BDCQ.SED1RE</td>\n",
       "      <td>Gisborne</td>\n",
       "      <td>20417</td>\n",
       "      <td>20632</td>\n",
       "      <td>215</td>\n",
       "      <td>1.1</td>\n",
       "      <td>276</td>\n",
       "      <td>279</td>\n",
       "      <td>3</td>\n",
       "      <td>1.1</td>\n",
       "    </tr>\n",
       "  </tbody>\n",
       "</table>\n",
       "</div>"
      ],
      "text/plain": [
       "    period series_reference    region_name  filled jobs  filled jobs revised  \\\n",
       "0  2020.09      BDCQ.SED1RA      Northland        65520                65904   \n",
       "1  2020.09      BDCQ.SED1RB       Auckland       708372               714506   \n",
       "2  2020.09      BDCQ.SED1RC        Waikato       198776               200265   \n",
       "3  2020.09      BDCQ.SED1RD  Bay of Plenty       127323               128540   \n",
       "4  2020.09      BDCQ.SED1RE       Gisborne        20417                20632   \n",
       "\n",
       "   filled jobs diff  filled jobs % diff  total_earnings  \\\n",
       "0               384                 0.6             953   \n",
       "1              6134                 0.9           12420   \n",
       "2              1489                 0.7            3041   \n",
       "3              1217                 1.0            1881   \n",
       "4               215                 1.1             276   \n",
       "\n",
       "   total earnings revised  earnings diff  earnings % diff  \n",
       "0                     959              6              0.6  \n",
       "1                   12530            110              0.9  \n",
       "2                    3058             17              0.6  \n",
       "3                    1899             18              1.0  \n",
       "4                     279              3              1.1  "
      ]
     },
     "execution_count": 3,
     "metadata": {},
     "output_type": "execute_result"
    }
   ],
   "source": [
    "file.head()"
   ]
  },
  {
   "cell_type": "code",
   "execution_count": 6,
   "id": "ba07fff7",
   "metadata": {},
   "outputs": [
    {
     "data": {
      "text/plain": [
       "(160, 11)"
      ]
     },
     "execution_count": 6,
     "metadata": {},
     "output_type": "execute_result"
    }
   ],
   "source": [
    "file.shape"
   ]
  },
  {
   "cell_type": "code",
   "execution_count": 8,
   "id": "02c5e5b0",
   "metadata": {},
   "outputs": [
    {
     "name": "stdout",
     "output_type": "stream",
     "text": [
      "<class 'pandas.core.frame.DataFrame'>\n",
      "RangeIndex: 160 entries, 0 to 159\n",
      "Data columns (total 11 columns):\n",
      " #   Column                  Non-Null Count  Dtype  \n",
      "---  ------                  --------------  -----  \n",
      " 0   period                  160 non-null    float64\n",
      " 1   series_reference        160 non-null    object \n",
      " 2   region_name             160 non-null    object \n",
      " 3   filled jobs             160 non-null    int64  \n",
      " 4   filled jobs revised     160 non-null    int64  \n",
      " 5   filled jobs diff        160 non-null    int64  \n",
      " 6   filled jobs % diff      160 non-null    float64\n",
      " 7   total_earnings          160 non-null    int64  \n",
      " 8   total earnings revised  160 non-null    int64  \n",
      " 9   earnings diff           160 non-null    int64  \n",
      " 10  earnings % diff         160 non-null    float64\n",
      "dtypes: float64(3), int64(6), object(2)\n",
      "memory usage: 13.9+ KB\n"
     ]
    }
   ],
   "source": [
    "file.info()"
   ]
  },
  {
   "cell_type": "code",
   "execution_count": 9,
   "id": "e04270b7",
   "metadata": {},
   "outputs": [
    {
     "data": {
      "text/html": [
       "<div>\n",
       "<style scoped>\n",
       "    .dataframe tbody tr th:only-of-type {\n",
       "        vertical-align: middle;\n",
       "    }\n",
       "\n",
       "    .dataframe tbody tr th {\n",
       "        vertical-align: top;\n",
       "    }\n",
       "\n",
       "    .dataframe thead th {\n",
       "        text-align: right;\n",
       "    }\n",
       "</style>\n",
       "<table border=\"1\" class=\"dataframe\">\n",
       "  <thead>\n",
       "    <tr style=\"text-align: right;\">\n",
       "      <th></th>\n",
       "      <th>period</th>\n",
       "      <th>series_reference</th>\n",
       "      <th>region_name</th>\n",
       "      <th>filled jobs</th>\n",
       "      <th>filled jobs revised</th>\n",
       "      <th>filled jobs diff</th>\n",
       "      <th>filled jobs % diff</th>\n",
       "      <th>total_earnings</th>\n",
       "      <th>total earnings revised</th>\n",
       "      <th>earnings diff</th>\n",
       "      <th>earnings % diff</th>\n",
       "    </tr>\n",
       "  </thead>\n",
       "  <tbody>\n",
       "    <tr>\n",
       "      <th>0</th>\n",
       "      <td>False</td>\n",
       "      <td>False</td>\n",
       "      <td>False</td>\n",
       "      <td>False</td>\n",
       "      <td>False</td>\n",
       "      <td>False</td>\n",
       "      <td>False</td>\n",
       "      <td>False</td>\n",
       "      <td>False</td>\n",
       "      <td>False</td>\n",
       "      <td>False</td>\n",
       "    </tr>\n",
       "    <tr>\n",
       "      <th>1</th>\n",
       "      <td>False</td>\n",
       "      <td>False</td>\n",
       "      <td>False</td>\n",
       "      <td>False</td>\n",
       "      <td>False</td>\n",
       "      <td>False</td>\n",
       "      <td>False</td>\n",
       "      <td>False</td>\n",
       "      <td>False</td>\n",
       "      <td>False</td>\n",
       "      <td>False</td>\n",
       "    </tr>\n",
       "    <tr>\n",
       "      <th>2</th>\n",
       "      <td>False</td>\n",
       "      <td>False</td>\n",
       "      <td>False</td>\n",
       "      <td>False</td>\n",
       "      <td>False</td>\n",
       "      <td>False</td>\n",
       "      <td>False</td>\n",
       "      <td>False</td>\n",
       "      <td>False</td>\n",
       "      <td>False</td>\n",
       "      <td>False</td>\n",
       "    </tr>\n",
       "    <tr>\n",
       "      <th>3</th>\n",
       "      <td>False</td>\n",
       "      <td>False</td>\n",
       "      <td>False</td>\n",
       "      <td>False</td>\n",
       "      <td>False</td>\n",
       "      <td>False</td>\n",
       "      <td>False</td>\n",
       "      <td>False</td>\n",
       "      <td>False</td>\n",
       "      <td>False</td>\n",
       "      <td>False</td>\n",
       "    </tr>\n",
       "    <tr>\n",
       "      <th>4</th>\n",
       "      <td>False</td>\n",
       "      <td>False</td>\n",
       "      <td>False</td>\n",
       "      <td>False</td>\n",
       "      <td>False</td>\n",
       "      <td>False</td>\n",
       "      <td>False</td>\n",
       "      <td>False</td>\n",
       "      <td>False</td>\n",
       "      <td>False</td>\n",
       "      <td>False</td>\n",
       "    </tr>\n",
       "    <tr>\n",
       "      <th>...</th>\n",
       "      <td>...</td>\n",
       "      <td>...</td>\n",
       "      <td>...</td>\n",
       "      <td>...</td>\n",
       "      <td>...</td>\n",
       "      <td>...</td>\n",
       "      <td>...</td>\n",
       "      <td>...</td>\n",
       "      <td>...</td>\n",
       "      <td>...</td>\n",
       "      <td>...</td>\n",
       "    </tr>\n",
       "    <tr>\n",
       "      <th>155</th>\n",
       "      <td>False</td>\n",
       "      <td>False</td>\n",
       "      <td>False</td>\n",
       "      <td>False</td>\n",
       "      <td>False</td>\n",
       "      <td>False</td>\n",
       "      <td>False</td>\n",
       "      <td>False</td>\n",
       "      <td>False</td>\n",
       "      <td>False</td>\n",
       "      <td>False</td>\n",
       "    </tr>\n",
       "    <tr>\n",
       "      <th>156</th>\n",
       "      <td>False</td>\n",
       "      <td>False</td>\n",
       "      <td>False</td>\n",
       "      <td>False</td>\n",
       "      <td>False</td>\n",
       "      <td>False</td>\n",
       "      <td>False</td>\n",
       "      <td>False</td>\n",
       "      <td>False</td>\n",
       "      <td>False</td>\n",
       "      <td>False</td>\n",
       "    </tr>\n",
       "    <tr>\n",
       "      <th>157</th>\n",
       "      <td>False</td>\n",
       "      <td>False</td>\n",
       "      <td>False</td>\n",
       "      <td>False</td>\n",
       "      <td>False</td>\n",
       "      <td>False</td>\n",
       "      <td>False</td>\n",
       "      <td>False</td>\n",
       "      <td>False</td>\n",
       "      <td>False</td>\n",
       "      <td>False</td>\n",
       "    </tr>\n",
       "    <tr>\n",
       "      <th>158</th>\n",
       "      <td>False</td>\n",
       "      <td>False</td>\n",
       "      <td>False</td>\n",
       "      <td>False</td>\n",
       "      <td>False</td>\n",
       "      <td>False</td>\n",
       "      <td>False</td>\n",
       "      <td>False</td>\n",
       "      <td>False</td>\n",
       "      <td>False</td>\n",
       "      <td>False</td>\n",
       "    </tr>\n",
       "    <tr>\n",
       "      <th>159</th>\n",
       "      <td>False</td>\n",
       "      <td>False</td>\n",
       "      <td>False</td>\n",
       "      <td>False</td>\n",
       "      <td>False</td>\n",
       "      <td>False</td>\n",
       "      <td>False</td>\n",
       "      <td>False</td>\n",
       "      <td>False</td>\n",
       "      <td>False</td>\n",
       "      <td>False</td>\n",
       "    </tr>\n",
       "  </tbody>\n",
       "</table>\n",
       "<p>160 rows × 11 columns</p>\n",
       "</div>"
      ],
      "text/plain": [
       "     period  series_reference  region_name  filled jobs  filled jobs revised  \\\n",
       "0     False             False        False        False                False   \n",
       "1     False             False        False        False                False   \n",
       "2     False             False        False        False                False   \n",
       "3     False             False        False        False                False   \n",
       "4     False             False        False        False                False   \n",
       "..      ...               ...          ...          ...                  ...   \n",
       "155   False             False        False        False                False   \n",
       "156   False             False        False        False                False   \n",
       "157   False             False        False        False                False   \n",
       "158   False             False        False        False                False   \n",
       "159   False             False        False        False                False   \n",
       "\n",
       "     filled jobs diff  filled jobs % diff  total_earnings  \\\n",
       "0               False               False           False   \n",
       "1               False               False           False   \n",
       "2               False               False           False   \n",
       "3               False               False           False   \n",
       "4               False               False           False   \n",
       "..                ...                 ...             ...   \n",
       "155             False               False           False   \n",
       "156             False               False           False   \n",
       "157             False               False           False   \n",
       "158             False               False           False   \n",
       "159             False               False           False   \n",
       "\n",
       "     total earnings revised  earnings diff  earnings % diff  \n",
       "0                     False          False            False  \n",
       "1                     False          False            False  \n",
       "2                     False          False            False  \n",
       "3                     False          False            False  \n",
       "4                     False          False            False  \n",
       "..                      ...            ...              ...  \n",
       "155                   False          False            False  \n",
       "156                   False          False            False  \n",
       "157                   False          False            False  \n",
       "158                   False          False            False  \n",
       "159                   False          False            False  \n",
       "\n",
       "[160 rows x 11 columns]"
      ]
     },
     "execution_count": 9,
     "metadata": {},
     "output_type": "execute_result"
    }
   ],
   "source": [
    "file.isnull()"
   ]
  },
  {
   "cell_type": "code",
   "execution_count": 10,
   "id": "6fe67b60",
   "metadata": {},
   "outputs": [
    {
     "data": {
      "text/plain": [
       "period                     10\n",
       "series_reference           16\n",
       "region_name                16\n",
       "filled jobs               160\n",
       "filled jobs revised       160\n",
       "filled jobs diff          153\n",
       "filled jobs % diff         21\n",
       "total_earnings            155\n",
       "total earnings revised    152\n",
       "earnings diff              53\n",
       "earnings % diff            23\n",
       "dtype: int64"
      ]
     },
     "execution_count": 10,
     "metadata": {},
     "output_type": "execute_result"
    }
   ],
   "source": [
    "file.nunique()"
   ]
  },
  {
   "cell_type": "code",
   "execution_count": 11,
   "id": "70acc0dd",
   "metadata": {},
   "outputs": [
    {
     "data": {
      "text/plain": [
       "period                    0\n",
       "series_reference          0\n",
       "region_name               0\n",
       "filled jobs               0\n",
       "filled jobs revised       0\n",
       "filled jobs diff          0\n",
       "filled jobs % diff        0\n",
       "total_earnings            0\n",
       "total earnings revised    0\n",
       "earnings diff             0\n",
       "earnings % diff           0\n",
       "dtype: int64"
      ]
     },
     "execution_count": 11,
     "metadata": {},
     "output_type": "execute_result"
    }
   ],
   "source": [
    "file.isnull().sum()"
   ]
  },
  {
   "cell_type": "code",
   "execution_count": 30,
   "id": "114639b7",
   "metadata": {},
   "outputs": [
    {
     "data": {
      "image/png": "[encoded data removed]",
      "text/plain": [
       "<Figure size 640x480 with 1 Axes>"
      ]
     },
     "metadata": {},
     "output_type": "display_data"
    }
   ],
   "source": [
    "sns.histplot(file ,x='filled jobs')\n",
    "plt.title('Histogram of Filled Jobs')\n",
    "plt.xlabel('filled jobs')\n",
    "plt.ylabel('Frequency')\n",
    "plt.show()"
   ]
  },
  {
   "cell_type": "code",
   "execution_count": 28,
   "id": "ee96b0b9",
   "metadata": {},
   "outputs": [
    {
     "data": {
      "text/plain": [
       "<Axes: xlabel='filled jobs'>"
      ]
     },
     "execution_count": 28,
     "metadata": {},
     "output_type": "execute_result"
    },
    {
     "data": {
      "image/png": "[encoded data removed]",
      "text/plain": [
       "<Figure size 640x480 with 1 Axes>"
      ]
     },
     "metadata": {},
     "output_type": "display_data"
    }
   ],
   "source": [
    "sns.boxplot(file, x='filled jobs')\n"
   ]
  },
  {
   "cell_type": "code",
   "execution_count": null,
   "id": "208b14ed",
   "metadata": {},
   "outputs": [],
   "source": []
  }
 ],
 "metadata": {
  "kernelspec": {
   "display_name": "Python 3 (ipykernel)",
   "language": "python",
   "name": "python3"
  },
  "language_info": {
   "codemirror_mode": {
    "name": "ipython",
    "version": 3
   },
   "file_extension": ".py",
   "mimetype": "text/x-python",
   "name": "python",
   "nbconvert_exporter": "python",
   "pygments_lexer": "ipython3",
   "version": "3.11.3"
  }
 },
 "nbformat": 4,
 "nbformat_minor": 5
}
