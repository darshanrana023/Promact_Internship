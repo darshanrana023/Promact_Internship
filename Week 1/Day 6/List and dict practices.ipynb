{
 "cells": [
  {
   "cell_type": "code",
   "execution_count": 1,
   "id": "93bbda70",
   "metadata": {},
   "outputs": [],
   "source": [
    "list=[1,[\"h\",'l',[4,5,6,7,8]],'hello','a',10.9,True, False]"
   ]
  },
  {
   "cell_type": "code",
   "execution_count": 2,
   "id": "c5cee627",
   "metadata": {},
   "outputs": [
    {
     "data": {
      "text/plain": [
       "True"
      ]
     },
     "execution_count": 2,
     "metadata": {},
     "output_type": "execute_result"
    }
   ],
   "source": [
    "list[5]"
   ]
  },
  {
   "cell_type": "code",
   "execution_count": 3,
   "id": "9371a60b",
   "metadata": {},
   "outputs": [
    {
     "data": {
      "text/plain": [
       "'hello'"
      ]
     },
     "execution_count": 3,
     "metadata": {},
     "output_type": "execute_result"
    }
   ],
   "source": [
    "list[2]"
   ]
  },
  {
   "cell_type": "code",
   "execution_count": 4,
   "id": "6dd727bd",
   "metadata": {},
   "outputs": [
    {
     "data": {
      "text/plain": [
       "['h', 'l', [4, 5, 6, 7, 8]]"
      ]
     },
     "execution_count": 4,
     "metadata": {},
     "output_type": "execute_result"
    }
   ],
   "source": [
    "list[1]"
   ]
  },
  {
   "cell_type": "code",
   "execution_count": 5,
   "id": "04340b03",
   "metadata": {},
   "outputs": [
    {
     "data": {
      "text/plain": [
       "[1, ['h', 'l', [4, 5, 6, 7, 8]]]"
      ]
     },
     "execution_count": 5,
     "metadata": {},
     "output_type": "execute_result"
    }
   ],
   "source": [
    "list[0:2]"
   ]
  },
  {
   "cell_type": "code",
   "execution_count": 6,
   "id": "4807b560",
   "metadata": {},
   "outputs": [
    {
     "data": {
      "text/plain": [
       "'l'"
      ]
     },
     "execution_count": 6,
     "metadata": {},
     "output_type": "execute_result"
    }
   ],
   "source": [
    "list[1][1]"
   ]
  },
  {
   "cell_type": "code",
   "execution_count": 7,
   "id": "1e8e99c3",
   "metadata": {},
   "outputs": [
    {
     "data": {
      "text/plain": [
       "8"
      ]
     },
     "execution_count": 7,
     "metadata": {},
     "output_type": "execute_result"
    }
   ],
   "source": [
    "list[1][2][4]"
   ]
  },
  {
   "cell_type": "code",
   "execution_count": 8,
   "id": "469e8329",
   "metadata": {},
   "outputs": [
    {
     "data": {
      "text/plain": [
       "7"
      ]
     },
     "execution_count": 8,
     "metadata": {},
     "output_type": "execute_result"
    }
   ],
   "source": [
    "len(list)"
   ]
  },
  {
   "cell_type": "code",
   "execution_count": 9,
   "id": "10118883",
   "metadata": {},
   "outputs": [],
   "source": [
    "list.append(\"ab\")"
   ]
  },
  {
   "cell_type": "code",
   "execution_count": 10,
   "id": "d9f913de",
   "metadata": {},
   "outputs": [
    {
     "name": "stdout",
     "output_type": "stream",
     "text": [
      "[1, ['h', 'l', [4, 5, 6, 7, 8]], 'hello', 'a', 10.9, True, False, 'ab']\n"
     ]
    }
   ],
   "source": [
    "print(list)"
   ]
  },
  {
   "cell_type": "code",
   "execution_count": 11,
   "id": "80629c8f",
   "metadata": {},
   "outputs": [
    {
     "data": {
      "text/plain": [
       "'ab'"
      ]
     },
     "execution_count": 11,
     "metadata": {},
     "output_type": "execute_result"
    }
   ],
   "source": [
    "list.pop()"
   ]
  },
  {
   "cell_type": "code",
   "execution_count": 12,
   "id": "82fc232d",
   "metadata": {},
   "outputs": [
    {
     "name": "stdout",
     "output_type": "stream",
     "text": [
      "[1, ['h', 'l', [4, 5, 6, 7, 8]], 'hello', 'a', 10.9, True, False]\n"
     ]
    }
   ],
   "source": [
    "print(list)"
   ]
  },
  {
   "cell_type": "code",
   "execution_count": 13,
   "id": "bc8841b2",
   "metadata": {},
   "outputs": [],
   "source": [
    "list.insert(3,'this is new string')"
   ]
  },
  {
   "cell_type": "code",
   "execution_count": 14,
   "id": "3d4ca113",
   "metadata": {},
   "outputs": [
    {
     "name": "stdout",
     "output_type": "stream",
     "text": [
      "[1, ['h', 'l', [4, 5, 6, 7, 8]], 'hello', 'this is new string', 'a', 10.9, True, False]\n"
     ]
    }
   ],
   "source": [
    "print(list)"
   ]
  },
  {
   "cell_type": "code",
   "execution_count": 15,
   "id": "3edf6911",
   "metadata": {},
   "outputs": [
    {
     "name": "stdout",
     "output_type": "stream",
     "text": [
      "[False, True, 10.9, 'a', 'this is new string', 'hello', ['h', 'l', [4, 5, 6, 7, 8]], 1]\n"
     ]
    }
   ],
   "source": [
    "print(list[::-1])"
   ]
  },
  {
   "cell_type": "code",
   "execution_count": 16,
   "id": "93ebe816",
   "metadata": {},
   "outputs": [
    {
     "name": "stdout",
     "output_type": "stream",
     "text": [
      "True\n"
     ]
    }
   ],
   "source": [
    "print(list[-2])"
   ]
  },
  {
   "cell_type": "code",
   "execution_count": 17,
   "id": "7ecc83fb",
   "metadata": {},
   "outputs": [
    {
     "name": "stdout",
     "output_type": "stream",
     "text": [
      "[False, 'a', ['h', 'l', [4, 5, 6, 7, 8]]]\n"
     ]
    }
   ],
   "source": [
    "print(list[::-3])"
   ]
  },
  {
   "cell_type": "code",
   "execution_count": 24,
   "id": "dd4410e3",
   "metadata": {},
   "outputs": [],
   "source": [
    "my_dict={'x':1,'y':2, 'z':3}"
   ]
  },
  {
   "cell_type": "code",
   "execution_count": 25,
   "id": "0f16f2d0",
   "metadata": {},
   "outputs": [
    {
     "data": {
      "text/plain": [
       "{'x': 1, 'y': 2, 'z': 3}"
      ]
     },
     "execution_count": 25,
     "metadata": {},
     "output_type": "execute_result"
    }
   ],
   "source": [
    "my_dict"
   ]
  },
  {
   "cell_type": "code",
   "execution_count": 37,
   "id": "d51bdff9",
   "metadata": {},
   "outputs": [],
   "source": [
    "values = my_dict['x']"
   ]
  },
  {
   "cell_type": "code",
   "execution_count": 33,
   "id": "23cdc5de",
   "metadata": {},
   "outputs": [],
   "source": [
    "keys=my_dict.keys()"
   ]
  },
  {
   "cell_type": "code",
   "execution_count": 34,
   "id": "09850489",
   "metadata": {},
   "outputs": [
    {
     "name": "stdout",
     "output_type": "stream",
     "text": [
      "dict_keys(['x', 'y', 'z'])\n"
     ]
    }
   ],
   "source": [
    "print(keys)"
   ]
  },
  {
   "cell_type": "code",
   "execution_count": 35,
   "id": "431e49e0",
   "metadata": {},
   "outputs": [
    {
     "name": "stdout",
     "output_type": "stream",
     "text": [
      "dict_values([1, 2, 3])\n"
     ]
    }
   ],
   "source": [
    "value=my_dict.values()\n",
    "print(value)"
   ]
  },
  {
   "cell_type": "code",
   "execution_count": 41,
   "id": "acc4979a",
   "metadata": {},
   "outputs": [
    {
     "data": {
      "text/plain": [
       "3"
      ]
     },
     "execution_count": 41,
     "metadata": {},
     "output_type": "execute_result"
    }
   ],
   "source": [
    "len(my_dict)"
   ]
  },
  {
   "cell_type": "code",
   "execution_count": 42,
   "id": "81afc4cb",
   "metadata": {},
   "outputs": [],
   "source": [
    "dict2 = {'key3': 'value3'}"
   ]
  },
  {
   "cell_type": "code",
   "execution_count": 44,
   "id": "00794e2b",
   "metadata": {},
   "outputs": [
    {
     "ename": "NameError",
     "evalue": "name 'merged_dict' is not defined",
     "output_type": "error",
     "traceback": [
      "\u001b[1;31m---------------------------------------------------------------------------\u001b[0m",
      "\u001b[1;31mNameError\u001b[0m                                 Traceback (most recent call last)",
      "Cell \u001b[1;32mIn[44], line 1\u001b[0m\n\u001b[1;32m----> 1\u001b[0m merged_dict(\u001b[38;5;241m*\u001b[39m\u001b[38;5;241m*\u001b[39mmy_dict,\u001b[38;5;241m*\u001b[39m\u001b[38;5;241m*\u001b[39mdict2)\n",
      "\u001b[1;31mNameError\u001b[0m: name 'merged_dict' is not defined"
     ]
    }
   ],
   "source": [
    "merged_dict(**my_dict,**dict2)"
   ]
  },
  {
   "cell_type": "code",
   "execution_count": null,
   "id": "d5fee524",
   "metadata": {},
   "outputs": [],
   "source": []
  }
 ],
 "metadata": {
  "kernelspec": {
   "display_name": "Python 3 (ipykernel)",
   "language": "python",
   "name": "python3"
  },
  "language_info": {
   "codemirror_mode": {
    "name": "ipython",
    "version": 3
   },
   "file_extension": ".py",
   "mimetype": "text/x-python",
   "name": "python",
   "nbconvert_exporter": "python",
   "pygments_lexer": "ipython3",
   "version": "3.11.3"
  }
 },
 "nbformat": 4,
 "nbformat_minor": 5
}
