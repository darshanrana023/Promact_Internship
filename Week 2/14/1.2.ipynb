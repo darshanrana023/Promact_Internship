{
 "cells": [
  {
   "cell_type": "markdown",
   "id": "c9eba9f2",
   "metadata": {},
   "source": [
    "# Data Exploration"
   ]
  },
  {
   "cell_type": "markdown",
   "id": "718d65ab",
   "metadata": {},
   "source": [
    "# Calculate mean, median, mode, min, max, and standard deviation for a dataset. "
   ]
  },
  {
   "cell_type": "code",
   "execution_count": 1,
   "id": "623313dd",
   "metadata": {},
   "outputs": [],
   "source": [
    "import numpy as np\n",
    "import pandas as pd"
   ]
  },
  {
   "cell_type": "code",
   "execution_count": 2,
   "id": "e2c358ca",
   "metadata": {},
   "outputs": [],
   "source": [
    "dt = pd.read_csv('test.csv')"
   ]
  },
  {
   "cell_type": "code",
   "execution_count": 3,
   "id": "c7ff8ece",
   "metadata": {},
   "outputs": [
    {
     "data": {
      "text/html": [
       "<div>\n",
       "<style scoped>\n",
       "    .dataframe tbody tr th:only-of-type {\n",
       "        vertical-align: middle;\n",
       "    }\n",
       "\n",
       "    .dataframe tbody tr th {\n",
       "        vertical-align: top;\n",
       "    }\n",
       "\n",
       "    .dataframe thead th {\n",
       "        text-align: right;\n",
       "    }\n",
       "</style>\n",
       "<table border=\"1\" class=\"dataframe\">\n",
       "  <thead>\n",
       "    <tr style=\"text-align: right;\">\n",
       "      <th></th>\n",
       "      <th>id</th>\n",
       "      <th>title</th>\n",
       "      <th>Rating</th>\n",
       "      <th>maincateg</th>\n",
       "      <th>platform</th>\n",
       "      <th>actprice1</th>\n",
       "      <th>norating1</th>\n",
       "      <th>noreviews1</th>\n",
       "      <th>star_5f</th>\n",
       "      <th>star_4f</th>\n",
       "      <th>star_3f</th>\n",
       "      <th>star_2f</th>\n",
       "      <th>star_1f</th>\n",
       "      <th>fulfilled1</th>\n",
       "    </tr>\n",
       "  </thead>\n",
       "  <tbody>\n",
       "    <tr>\n",
       "      <th>0</th>\n",
       "      <td>2242</td>\n",
       "      <td>Casuals For Men  (Blue)</td>\n",
       "      <td>3.8</td>\n",
       "      <td>Men</td>\n",
       "      <td>Flipkart</td>\n",
       "      <td>999</td>\n",
       "      <td>27928</td>\n",
       "      <td>3543</td>\n",
       "      <td>14238.0</td>\n",
       "      <td>4295</td>\n",
       "      <td>3457</td>\n",
       "      <td>1962</td>\n",
       "      <td>3976.0</td>\n",
       "      <td>1</td>\n",
       "    </tr>\n",
       "    <tr>\n",
       "      <th>1</th>\n",
       "      <td>20532</td>\n",
       "      <td>Women Black Flats Sandal</td>\n",
       "      <td>3.9</td>\n",
       "      <td>Women</td>\n",
       "      <td>Flipkart</td>\n",
       "      <td>499</td>\n",
       "      <td>3015</td>\n",
       "      <td>404</td>\n",
       "      <td>1458.0</td>\n",
       "      <td>657</td>\n",
       "      <td>397</td>\n",
       "      <td>182</td>\n",
       "      <td>321.0</td>\n",
       "      <td>1</td>\n",
       "    </tr>\n",
       "    <tr>\n",
       "      <th>2</th>\n",
       "      <td>10648</td>\n",
       "      <td>Women Gold Wedges Sandal</td>\n",
       "      <td>3.9</td>\n",
       "      <td>Women</td>\n",
       "      <td>Flipkart</td>\n",
       "      <td>999</td>\n",
       "      <td>449</td>\n",
       "      <td>52</td>\n",
       "      <td>229.0</td>\n",
       "      <td>70</td>\n",
       "      <td>71</td>\n",
       "      <td>33</td>\n",
       "      <td>46.0</td>\n",
       "      <td>1</td>\n",
       "    </tr>\n",
       "    <tr>\n",
       "      <th>3</th>\n",
       "      <td>20677</td>\n",
       "      <td>Men's Height Increasing High Heel Formal Party...</td>\n",
       "      <td>3.9</td>\n",
       "      <td>Men</td>\n",
       "      <td>Flipkart</td>\n",
       "      <td>2999</td>\n",
       "      <td>290</td>\n",
       "      <td>40</td>\n",
       "      <td>141.0</td>\n",
       "      <td>51</td>\n",
       "      <td>49</td>\n",
       "      <td>17</td>\n",
       "      <td>32.0</td>\n",
       "      <td>1</td>\n",
       "    </tr>\n",
       "    <tr>\n",
       "      <th>4</th>\n",
       "      <td>12593</td>\n",
       "      <td>Loafers For Men  (Tan)</td>\n",
       "      <td>3.9</td>\n",
       "      <td>Men</td>\n",
       "      <td>Flipkart</td>\n",
       "      <td>999</td>\n",
       "      <td>2423</td>\n",
       "      <td>326</td>\n",
       "      <td>1265.0</td>\n",
       "      <td>414</td>\n",
       "      <td>293</td>\n",
       "      <td>143</td>\n",
       "      <td>308.0</td>\n",
       "      <td>0</td>\n",
       "    </tr>\n",
       "  </tbody>\n",
       "</table>\n",
       "</div>"
      ],
      "text/plain": [
       "      id                                              title  Rating maincateg  \\\n",
       "0   2242                            Casuals For Men  (Blue)     3.8       Men   \n",
       "1  20532                           Women Black Flats Sandal     3.9     Women   \n",
       "2  10648                           Women Gold Wedges Sandal     3.9     Women   \n",
       "3  20677  Men's Height Increasing High Heel Formal Party...     3.9       Men   \n",
       "4  12593                             Loafers For Men  (Tan)     3.9       Men   \n",
       "\n",
       "   platform  actprice1  norating1  noreviews1  star_5f  star_4f  star_3f  \\\n",
       "0  Flipkart        999      27928        3543  14238.0     4295     3457   \n",
       "1  Flipkart        499       3015         404   1458.0      657      397   \n",
       "2  Flipkart        999        449          52    229.0       70       71   \n",
       "3  Flipkart       2999        290          40    141.0       51       49   \n",
       "4  Flipkart        999       2423         326   1265.0      414      293   \n",
       "\n",
       "   star_2f  star_1f  fulfilled1  \n",
       "0     1962   3976.0           1  \n",
       "1      182    321.0           1  \n",
       "2       33     46.0           1  \n",
       "3       17     32.0           1  \n",
       "4      143    308.0           0  "
      ]
     },
     "execution_count": 3,
     "metadata": {},
     "output_type": "execute_result"
    }
   ],
   "source": [
    "dt.head()"
   ]
  },
  {
   "cell_type": "code",
   "execution_count": 4,
   "id": "86c695be",
   "metadata": {},
   "outputs": [
    {
     "data": {
      "text/plain": [
       "(5244, 14)"
      ]
     },
     "execution_count": 4,
     "metadata": {},
     "output_type": "execute_result"
    }
   ],
   "source": [
    "dt.shape"
   ]
  },
  {
   "cell_type": "code",
   "execution_count": 5,
   "id": "7d589bcf",
   "metadata": {},
   "outputs": [
    {
     "name": "stderr",
     "output_type": "stream",
     "text": [
      "C:\\Users\\admin\\AppData\\Local\\Temp\\ipykernel_4600\\2162581429.py:1: FutureWarning: The default value of numeric_only in DataFrame.mean is deprecated. In a future version, it will default to False. In addition, specifying 'numeric_only=None' is deprecated. Select only valid columns or specify the value of numeric_only to silence this warning.\n",
      "  dt.mean()\n"
     ]
    },
    {
     "data": {
      "text/plain": [
       "id            10507.372616\n",
       "Rating            4.011089\n",
       "actprice1      1378.657895\n",
       "norating1      2988.580092\n",
       "noreviews1      415.491037\n",
       "star_5f        1557.443199\n",
       "star_4f         639.785469\n",
       "star_3f         356.356789\n",
       "star_2f         154.139969\n",
       "star_1f         270.397786\n",
       "fulfilled1        0.604500\n",
       "dtype: float64"
      ]
     },
     "execution_count": 5,
     "metadata": {},
     "output_type": "execute_result"
    }
   ],
   "source": [
    "dt.mean()"
   ]
  },
  {
   "cell_type": "code",
   "execution_count": 6,
   "id": "c6dd9a74",
   "metadata": {},
   "outputs": [
    {
     "name": "stderr",
     "output_type": "stream",
     "text": [
      "C:\\Users\\admin\\AppData\\Local\\Temp\\ipykernel_4600\\3024937849.py:1: FutureWarning: The default value of numeric_only in DataFrame.median is deprecated. In a future version, it will default to False. In addition, specifying 'numeric_only=None' is deprecated. Select only valid columns or specify the value of numeric_only to silence this warning.\n",
      "  dt.median()\n"
     ]
    },
    {
     "data": {
      "text/plain": [
       "id            10561.5\n",
       "Rating            4.0\n",
       "actprice1       999.0\n",
       "norating1       307.0\n",
       "noreviews1       44.0\n",
       "star_5f         156.0\n",
       "star_4f          61.0\n",
       "star_3f          34.0\n",
       "star_2f          16.0\n",
       "star_1f          29.0\n",
       "fulfilled1        1.0\n",
       "dtype: float64"
      ]
     },
     "execution_count": 6,
     "metadata": {},
     "output_type": "execute_result"
    }
   ],
   "source": [
    "dt.median()"
   ]
  },
  {
   "cell_type": "code",
   "execution_count": 7,
   "id": "7e59db69",
   "metadata": {},
   "outputs": [
    {
     "name": "stderr",
     "output_type": "stream",
     "text": [
      "C:\\Users\\admin\\AppData\\Local\\Temp\\ipykernel_4600\\3655180176.py:1: FutureWarning: The default value of numeric_only in DataFrame.max is deprecated. In a future version, it will default to False. In addition, specifying 'numeric_only=None' is deprecated. Select only valid columns or specify the value of numeric_only to silence this warning.\n",
      "  dt.max()\n"
     ]
    },
    {
     "data": {
      "text/plain": [
       "id                                                        20964\n",
       "title          Bellies For Women( beige stone) Bellies For W...\n",
       "Rating                                                      5.0\n",
       "platform                                               Flipkart\n",
       "actprice1                                                 15999\n",
       "norating1                                                289973\n",
       "noreviews1                                                45448\n",
       "star_5f                                                151193.0\n",
       "star_4f                                                   74037\n",
       "star_3f                                                   49924\n",
       "star_2f                                                   12629\n",
       "star_1f                                                 23139.0\n",
       "fulfilled1                                                    1\n",
       "dtype: object"
      ]
     },
     "execution_count": 7,
     "metadata": {},
     "output_type": "execute_result"
    }
   ],
   "source": [
    "dt.max()"
   ]
  },
  {
   "cell_type": "code",
   "execution_count": 8,
   "id": "dd9db835",
   "metadata": {},
   "outputs": [
    {
     "name": "stderr",
     "output_type": "stream",
     "text": [
      "C:\\Users\\admin\\AppData\\Local\\Temp\\ipykernel_4600\\649288367.py:1: FutureWarning: The default value of numeric_only in DataFrame.min is deprecated. In a future version, it will default to False. In addition, specifying 'numeric_only=None' is deprecated. Select only valid columns or specify the value of numeric_only to silence this warning.\n",
      "  dt.min()\n"
     ]
    },
    {
     "data": {
      "text/plain": [
       "id                 0\n",
       "title              0\n",
       "Rating           0.0\n",
       "platform      Amazon\n",
       "actprice1        139\n",
       "norating1          1\n",
       "noreviews1         0\n",
       "star_5f          0.0\n",
       "star_4f            0\n",
       "star_3f            0\n",
       "star_2f            0\n",
       "star_1f          0.0\n",
       "fulfilled1         0\n",
       "dtype: object"
      ]
     },
     "execution_count": 8,
     "metadata": {},
     "output_type": "execute_result"
    }
   ],
   "source": [
    "dt.min()"
   ]
  },
  {
   "cell_type": "code",
   "execution_count": 9,
   "id": "cfbf8736",
   "metadata": {},
   "outputs": [
    {
     "name": "stderr",
     "output_type": "stream",
     "text": [
      "C:\\Users\\admin\\AppData\\Local\\Temp\\ipykernel_4600\\2572274960.py:1: FutureWarning: The default value of numeric_only in DataFrame.std is deprecated. In a future version, it will default to False. In addition, specifying 'numeric_only=None' is deprecated. Select only valid columns or specify the value of numeric_only to silence this warning.\n",
      "  dt.std()\n"
     ]
    },
    {
     "data": {
      "text/plain": [
       "id             5978.658892\n",
       "Rating            0.301915\n",
       "actprice1      1280.630070\n",
       "norating1     12881.253715\n",
       "noreviews1     1910.726669\n",
       "star_5f        6583.766998\n",
       "star_4f        2991.065223\n",
       "star_3f        1632.732834\n",
       "star_2f         611.006799\n",
       "star_1f        1035.085288\n",
       "fulfilled1        0.489004\n",
       "dtype: float64"
      ]
     },
     "execution_count": 9,
     "metadata": {},
     "output_type": "execute_result"
    }
   ],
   "source": [
    "dt.std()"
   ]
  },
  {
   "cell_type": "code",
   "execution_count": 10,
   "id": "ba10ac1e",
   "metadata": {},
   "outputs": [
    {
     "data": {
      "text/html": [
       "<div>\n",
       "<style scoped>\n",
       "    .dataframe tbody tr th:only-of-type {\n",
       "        vertical-align: middle;\n",
       "    }\n",
       "\n",
       "    .dataframe tbody tr th {\n",
       "        vertical-align: top;\n",
       "    }\n",
       "\n",
       "    .dataframe thead th {\n",
       "        text-align: right;\n",
       "    }\n",
       "</style>\n",
       "<table border=\"1\" class=\"dataframe\">\n",
       "  <thead>\n",
       "    <tr style=\"text-align: right;\">\n",
       "      <th></th>\n",
       "      <th>id</th>\n",
       "      <th>title</th>\n",
       "      <th>Rating</th>\n",
       "      <th>maincateg</th>\n",
       "      <th>platform</th>\n",
       "      <th>actprice1</th>\n",
       "      <th>norating1</th>\n",
       "      <th>noreviews1</th>\n",
       "      <th>star_5f</th>\n",
       "      <th>star_4f</th>\n",
       "      <th>star_3f</th>\n",
       "      <th>star_2f</th>\n",
       "      <th>star_1f</th>\n",
       "      <th>fulfilled1</th>\n",
       "    </tr>\n",
       "  </thead>\n",
       "  <tbody>\n",
       "    <tr>\n",
       "      <th>0</th>\n",
       "      <td>0</td>\n",
       "      <td>Flip Flops</td>\n",
       "      <td>4.1</td>\n",
       "      <td>Women</td>\n",
       "      <td>Flipkart</td>\n",
       "      <td>999.0</td>\n",
       "      <td>6.0</td>\n",
       "      <td>1.0</td>\n",
       "      <td>4.0</td>\n",
       "      <td>1.0</td>\n",
       "      <td>0.0</td>\n",
       "      <td>0.0</td>\n",
       "      <td>0.0</td>\n",
       "      <td>1.0</td>\n",
       "    </tr>\n",
       "    <tr>\n",
       "      <th>1</th>\n",
       "      <td>1</td>\n",
       "      <td>NaN</td>\n",
       "      <td>NaN</td>\n",
       "      <td>NaN</td>\n",
       "      <td>NaN</td>\n",
       "      <td>NaN</td>\n",
       "      <td>NaN</td>\n",
       "      <td>NaN</td>\n",
       "      <td>NaN</td>\n",
       "      <td>NaN</td>\n",
       "      <td>NaN</td>\n",
       "      <td>NaN</td>\n",
       "      <td>NaN</td>\n",
       "      <td>NaN</td>\n",
       "    </tr>\n",
       "    <tr>\n",
       "      <th>2</th>\n",
       "      <td>2</td>\n",
       "      <td>NaN</td>\n",
       "      <td>NaN</td>\n",
       "      <td>NaN</td>\n",
       "      <td>NaN</td>\n",
       "      <td>NaN</td>\n",
       "      <td>NaN</td>\n",
       "      <td>NaN</td>\n",
       "      <td>NaN</td>\n",
       "      <td>NaN</td>\n",
       "      <td>NaN</td>\n",
       "      <td>NaN</td>\n",
       "      <td>NaN</td>\n",
       "      <td>NaN</td>\n",
       "    </tr>\n",
       "    <tr>\n",
       "      <th>3</th>\n",
       "      <td>4</td>\n",
       "      <td>NaN</td>\n",
       "      <td>NaN</td>\n",
       "      <td>NaN</td>\n",
       "      <td>NaN</td>\n",
       "      <td>NaN</td>\n",
       "      <td>NaN</td>\n",
       "      <td>NaN</td>\n",
       "      <td>NaN</td>\n",
       "      <td>NaN</td>\n",
       "      <td>NaN</td>\n",
       "      <td>NaN</td>\n",
       "      <td>NaN</td>\n",
       "      <td>NaN</td>\n",
       "    </tr>\n",
       "    <tr>\n",
       "      <th>4</th>\n",
       "      <td>22</td>\n",
       "      <td>NaN</td>\n",
       "      <td>NaN</td>\n",
       "      <td>NaN</td>\n",
       "      <td>NaN</td>\n",
       "      <td>NaN</td>\n",
       "      <td>NaN</td>\n",
       "      <td>NaN</td>\n",
       "      <td>NaN</td>\n",
       "      <td>NaN</td>\n",
       "      <td>NaN</td>\n",
       "      <td>NaN</td>\n",
       "      <td>NaN</td>\n",
       "      <td>NaN</td>\n",
       "    </tr>\n",
       "    <tr>\n",
       "      <th>...</th>\n",
       "      <td>...</td>\n",
       "      <td>...</td>\n",
       "      <td>...</td>\n",
       "      <td>...</td>\n",
       "      <td>...</td>\n",
       "      <td>...</td>\n",
       "      <td>...</td>\n",
       "      <td>...</td>\n",
       "      <td>...</td>\n",
       "      <td>...</td>\n",
       "      <td>...</td>\n",
       "      <td>...</td>\n",
       "      <td>...</td>\n",
       "      <td>...</td>\n",
       "    </tr>\n",
       "    <tr>\n",
       "      <th>5239</th>\n",
       "      <td>20942</td>\n",
       "      <td>NaN</td>\n",
       "      <td>NaN</td>\n",
       "      <td>NaN</td>\n",
       "      <td>NaN</td>\n",
       "      <td>NaN</td>\n",
       "      <td>NaN</td>\n",
       "      <td>NaN</td>\n",
       "      <td>NaN</td>\n",
       "      <td>NaN</td>\n",
       "      <td>NaN</td>\n",
       "      <td>NaN</td>\n",
       "      <td>NaN</td>\n",
       "      <td>NaN</td>\n",
       "    </tr>\n",
       "    <tr>\n",
       "      <th>5240</th>\n",
       "      <td>20943</td>\n",
       "      <td>NaN</td>\n",
       "      <td>NaN</td>\n",
       "      <td>NaN</td>\n",
       "      <td>NaN</td>\n",
       "      <td>NaN</td>\n",
       "      <td>NaN</td>\n",
       "      <td>NaN</td>\n",
       "      <td>NaN</td>\n",
       "      <td>NaN</td>\n",
       "      <td>NaN</td>\n",
       "      <td>NaN</td>\n",
       "      <td>NaN</td>\n",
       "      <td>NaN</td>\n",
       "    </tr>\n",
       "    <tr>\n",
       "      <th>5241</th>\n",
       "      <td>20948</td>\n",
       "      <td>NaN</td>\n",
       "      <td>NaN</td>\n",
       "      <td>NaN</td>\n",
       "      <td>NaN</td>\n",
       "      <td>NaN</td>\n",
       "      <td>NaN</td>\n",
       "      <td>NaN</td>\n",
       "      <td>NaN</td>\n",
       "      <td>NaN</td>\n",
       "      <td>NaN</td>\n",
       "      <td>NaN</td>\n",
       "      <td>NaN</td>\n",
       "      <td>NaN</td>\n",
       "    </tr>\n",
       "    <tr>\n",
       "      <th>5242</th>\n",
       "      <td>20958</td>\n",
       "      <td>NaN</td>\n",
       "      <td>NaN</td>\n",
       "      <td>NaN</td>\n",
       "      <td>NaN</td>\n",
       "      <td>NaN</td>\n",
       "      <td>NaN</td>\n",
       "      <td>NaN</td>\n",
       "      <td>NaN</td>\n",
       "      <td>NaN</td>\n",
       "      <td>NaN</td>\n",
       "      <td>NaN</td>\n",
       "      <td>NaN</td>\n",
       "      <td>NaN</td>\n",
       "    </tr>\n",
       "    <tr>\n",
       "      <th>5243</th>\n",
       "      <td>20964</td>\n",
       "      <td>NaN</td>\n",
       "      <td>NaN</td>\n",
       "      <td>NaN</td>\n",
       "      <td>NaN</td>\n",
       "      <td>NaN</td>\n",
       "      <td>NaN</td>\n",
       "      <td>NaN</td>\n",
       "      <td>NaN</td>\n",
       "      <td>NaN</td>\n",
       "      <td>NaN</td>\n",
       "      <td>NaN</td>\n",
       "      <td>NaN</td>\n",
       "      <td>NaN</td>\n",
       "    </tr>\n",
       "  </tbody>\n",
       "</table>\n",
       "<p>5244 rows × 14 columns</p>\n",
       "</div>"
      ],
      "text/plain": [
       "         id       title  Rating maincateg  platform  actprice1  norating1  \\\n",
       "0         0  Flip Flops     4.1     Women  Flipkart      999.0        6.0   \n",
       "1         1         NaN     NaN       NaN       NaN        NaN        NaN   \n",
       "2         2         NaN     NaN       NaN       NaN        NaN        NaN   \n",
       "3         4         NaN     NaN       NaN       NaN        NaN        NaN   \n",
       "4        22         NaN     NaN       NaN       NaN        NaN        NaN   \n",
       "...     ...         ...     ...       ...       ...        ...        ...   \n",
       "5239  20942         NaN     NaN       NaN       NaN        NaN        NaN   \n",
       "5240  20943         NaN     NaN       NaN       NaN        NaN        NaN   \n",
       "5241  20948         NaN     NaN       NaN       NaN        NaN        NaN   \n",
       "5242  20958         NaN     NaN       NaN       NaN        NaN        NaN   \n",
       "5243  20964         NaN     NaN       NaN       NaN        NaN        NaN   \n",
       "\n",
       "      noreviews1  star_5f  star_4f  star_3f  star_2f  star_1f  fulfilled1  \n",
       "0            1.0      4.0      1.0      0.0      0.0      0.0         1.0  \n",
       "1            NaN      NaN      NaN      NaN      NaN      NaN         NaN  \n",
       "2            NaN      NaN      NaN      NaN      NaN      NaN         NaN  \n",
       "3            NaN      NaN      NaN      NaN      NaN      NaN         NaN  \n",
       "4            NaN      NaN      NaN      NaN      NaN      NaN         NaN  \n",
       "...          ...      ...      ...      ...      ...      ...         ...  \n",
       "5239         NaN      NaN      NaN      NaN      NaN      NaN         NaN  \n",
       "5240         NaN      NaN      NaN      NaN      NaN      NaN         NaN  \n",
       "5241         NaN      NaN      NaN      NaN      NaN      NaN         NaN  \n",
       "5242         NaN      NaN      NaN      NaN      NaN      NaN         NaN  \n",
       "5243         NaN      NaN      NaN      NaN      NaN      NaN         NaN  \n",
       "\n",
       "[5244 rows x 14 columns]"
      ]
     },
     "execution_count": 10,
     "metadata": {},
     "output_type": "execute_result"
    }
   ],
   "source": [
    "dt.mode()"
   ]
  },
  {
   "cell_type": "code",
   "execution_count": 11,
   "id": "36239564",
   "metadata": {},
   "outputs": [
    {
     "data": {
      "text/plain": [
       "id                     0\n",
       "title         Flip Flops\n",
       "Rating               4.1\n",
       "maincateg          Women\n",
       "platform        Flipkart\n",
       "actprice1          999.0\n",
       "norating1            6.0\n",
       "noreviews1           1.0\n",
       "star_5f              4.0\n",
       "star_4f              1.0\n",
       "star_3f              0.0\n",
       "star_2f              0.0\n",
       "star_1f              0.0\n",
       "fulfilled1           1.0\n",
       "Name: 0, dtype: object"
      ]
     },
     "execution_count": 11,
     "metadata": {},
     "output_type": "execute_result"
    }
   ],
   "source": [
    "dt.mode().iloc[0]"
   ]
  },
  {
   "cell_type": "code",
   "execution_count": null,
   "id": "2cd263d2",
   "metadata": {},
   "outputs": [],
   "source": []
  }
 ],
 "metadata": {
  "kernelspec": {
   "display_name": "Python 3 (ipykernel)",
   "language": "python",
   "name": "python3"
  },
  "language_info": {
   "codemirror_mode": {
    "name": "ipython",
    "version": 3
   },
   "file_extension": ".py",
   "mimetype": "text/x-python",
   "name": "python",
   "nbconvert_exporter": "python",
   "pygments_lexer": "ipython3",
   "version": "3.11.3"
  }
 },
 "nbformat": 4,
 "nbformat_minor": 5
}
