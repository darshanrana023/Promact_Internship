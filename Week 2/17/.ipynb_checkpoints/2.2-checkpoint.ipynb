{
 "cells": [
  {
   "cell_type": "code",
   "execution_count": 1,
   "id": "b0dbd503",
   "metadata": {},
   "outputs": [],
   "source": [
    "import tensorflow as tf"
   ]
  },
  {
   "cell_type": "code",
   "execution_count": null,
   "id": "728c4cd9",
   "metadata": {},
   "outputs": [],
   "source": [
    "# creating nodes in computation graph\n",
    "node1 = tf.constant(3, dtype=tf.int32)\n",
    "node2 =tf.constant (5,dtype=tf.int32)\n",
    "node3=tf.add(node1,node2)\n",
    "\n",
    "# create tensorflow session object\n",
    "sess = tf.compat.v1.Session()\n",
    "\n",
    "#print('Sum of Node1 and Node2 :',sess.run(node3))\n",
    "print(\"sum of node1 and node2 is :\",sess.run(node3))\n",
    "sess.close()"
   ]
  },
  {
   "cell_type": "code",
   "execution_count": null,
   "id": "e52463ef",
   "metadata": {},
   "outputs": [],
   "source": [
    "# Build a graph.\n",
    "a = tf.constant(5)\n",
    "b = tf.constant(6)\n",
    "c = a * b\n",
    "\n",
    "# Launch the graph in a session.\n",
    "sess = tf.compat.v1.Session()\n",
    "\n",
    "# Evaluate the tensor `c`.\n",
    "print(sess.run(c)) # prints 30.0"
   ]
  },
  {
   "cell_type": "code",
   "execution_count": null,
   "id": "bd8da1c1",
   "metadata": {},
   "outputs": [],
   "source": [
    "import tensorflow as tf\n",
    "import numpy as np\n",
    "import matplotlib.pyplot as plt\n",
    "\n",
    "# Generate synthetic data\n",
    "np.random.seed(0)\n",
    "X = np.linspace(0, 1, 100)\n",
    "y = 2 * X + 1 + 0.1 * np.random.randn(100)\n",
    "\n",
    "# Define a simple neural network model\n",
    "model = tf.keras.Sequential([\n",
    "    tf.keras.layers.Input(shape=(1,)),    # Input layer with 1 neuron\n",
    "    tf.keras.layers.Dense(1)              # Output layer with 1 neuron\n",
    "])\n",
    "\n",
    "# Compile the model\n",
    "model.compile(optimizer='sgd', loss='mse')\n",
    "\n",
    "# Train the model\n",
    "history = model.fit(X, y, epochs=100)\n",
    "\n",
    "# Plot the training loss\n",
    "plt.plot(history.history['loss'])\n",
    "plt.xlabel('Epoch')\n",
    "plt.ylabel('Loss')\n",
    "plt.title('Training Loss')\n",
    "plt.show()\n"
   ]
  },
  {
   "cell_type": "code",
   "execution_count": null,
   "id": "5039a162",
   "metadata": {},
   "outputs": [],
   "source": []
  },
  {
   "cell_type": "code",
   "execution_count": null,
   "id": "2ee0de52",
   "metadata": {},
   "outputs": [],
   "source": []
  }
 ],
 "metadata": {
  "kernelspec": {
   "display_name": "Python 3 (ipykernel)",
   "language": "python",
   "name": "python3"
  },
  "language_info": {
   "codemirror_mode": {
    "name": "ipython",
    "version": 3
   },
   "file_extension": ".py",
   "mimetype": "text/x-python",
   "name": "python",
   "nbconvert_exporter": "python",
   "pygments_lexer": "ipython3",
   "version": "3.11.3"
  }
 },
 "nbformat": 4,
 "nbformat_minor": 5
}
