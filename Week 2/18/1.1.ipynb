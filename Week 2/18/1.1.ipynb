{
 "cells": [
  {
   "cell_type": "code",
   "execution_count": 1,
   "id": "c6f5d6d9",
   "metadata": {},
   "outputs": [
    {
     "name": "stdout",
     "output_type": "stream",
     "text": [
      "1/1 [==============================] - 1s 1s/step\n",
      "Downloading data from https://storage.googleapis.com/download.tensorflow.org/data/imagenet_class_index.json\n",
      "35363/35363 [==============================] - 0s 1us/step\n",
      "Image: 1.jpg\n",
      "1: tabby (0.39)\n",
      "2: Egyptian_cat (0.37)\n",
      "3: tiger_cat (0.14)\n",
      "\n",
      "1/1 [==============================] - 0s 94ms/step\n",
      "Image: 2.jpg\n",
      "1: tiger (0.90)\n",
      "2: tiger_cat (0.10)\n",
      "3: lynx (0.00)\n",
      "\n",
      "1/1 [==============================] - 0s 86ms/step\n",
      "Image: 3.jpg\n",
      "1: Labrador_retriever (0.71)\n",
      "2: golden_retriever (0.29)\n",
      "3: kuvasz (0.00)\n",
      "\n",
      "1/1 [==============================] - 0s 97ms/step\n",
      "Image: 4.jpg\n",
      "1: sorrel (0.43)\n",
      "2: hartebeest (0.28)\n",
      "3: worm_fence (0.06)\n",
      "\n"
     ]
    }
   ],
   "source": [
    "import tensorflow as tf\n",
    "from tensorflow.keras.applications import ResNet50\n",
    "from tensorflow.keras.applications.resnet50 import preprocess_input, decode_predictions\n",
    "from tensorflow.keras.preprocessing import image\n",
    "import numpy as np\n",
    "import os\n",
    "# Load pre-trained ResNet50 model\n",
    "base_model = ResNet50(weights='imagenet')\n",
    "# Path to the folder containing test images\n",
    "test_folder = r'C:\\Users\\admin\\Desktop\\Promact_Training\\18\\photos'\n",
    "# Iterate through image files\n",
    "for image_name in os.listdir(test_folder):\n",
    "    img_path = os.path.join(test_folder, image_name)\n",
    "    # Load and preprocess the image\n",
    "    img = image.load_img(img_path, target_size=(224, 224))\n",
    "    img_array = image.img_to_array(img)\n",
    "    img_array = np.expand_dims(img_array, axis=0)\n",
    "    img_array = preprocess_input(img_array)\n",
    "    # Make predictions using the pre-trained model\n",
    "    predictions = base_model.predict(img_array)\n",
    "    decoded_predictions = decode_predictions(predictions, top=3)[0]\n",
    "    # Print predicted labels for the image\n",
    "    print(f\"Image: {image_name}\")\n",
    "    for i, (imagenet_id, label, score) in enumerate(decoded_predictions):\n",
    "        print(f\"{i + 1}: {label} ({score:.2f})\")\n",
    "    print()"
   ]
  },
  {
   "cell_type": "code",
   "execution_count": null,
   "id": "076c89b1",
   "metadata": {},
   "outputs": [],
   "source": []
  },
  {
   "cell_type": "code",
   "execution_count": null,
   "id": "a29d2ab7",
   "metadata": {},
   "outputs": [],
   "source": []
  }
 ],
 "metadata": {
  "kernelspec": {
   "display_name": "Python 3 (ipykernel)",
   "language": "python",
   "name": "python3"
  },
  "language_info": {
   "codemirror_mode": {
    "name": "ipython",
    "version": 3
   },
   "file_extension": ".py",
   "mimetype": "text/x-python",
   "name": "python",
   "nbconvert_exporter": "python",
   "pygments_lexer": "ipython3",
   "version": "3.11.3"
  }
 },
 "nbformat": 4,
 "nbformat_minor": 5
}
