{
 "cells": [
  {
   "cell_type": "code",
   "execution_count": 8,
   "id": "a1ecde41",
   "metadata": {},
   "outputs": [],
   "source": [
    "# Data Preprocessing:\n",
    "\n",
    "# We start by loading and preprocessing the CIFAR-10 dataset. This dataset contains images categorized into 10 classes. The pixel values of the images are normalized to be between 0 and 1. \n",
    "# This step ensures that the neural network can process the data effectively.\n",
    "import tensorflow as tf\n",
    "from tensorflow.keras.datasets import cifar10\n",
    "from tensorflow.keras.preprocessing.image import ImageDataGenerator\n",
    "\n",
    "# Load and preprocess the data\n",
    "(train_images, train_labels), (test_images, test_labels) = cifar10.load_data()\n",
    "\n",
    "# Normalize pixel values to be between 0 and 1\n",
    "train_images, test_images = train_images / 255.0, test_images / 255.0\n"
   ]
  },
  {
   "cell_type": "code",
   "execution_count": 9,
   "id": "de1bf6ad",
   "metadata": {},
   "outputs": [],
   "source": [
    "# Model Building with Transfer Learning:\n",
    "\n",
    "# We use transfer learning to leverage the knowledge learned by a pre-trained model (VGG16) on a large dataset (ImageNet) for our image classification task. \n",
    "# We load the VGG16 model without its top layers and add a custom classifier on top.\n",
    "\n",
    "from tensorflow.keras.applications import VGG16\n",
    "from tensorflow.keras import layers, models\n",
    "\n",
    "# Load pre-trained VGG16 model (excluding top layers)\n",
    "base_model = VGG16(weights='imagenet', include_top=False, input_shape=(32, 32, 3))\n",
    "\n",
    "# Add custom classifier on top\n",
    "model = models.Sequential()\n",
    "model.add(base_model)\n",
    "model.add(layers.Flatten())\n",
    "model.add(layers.Dense(256, activation='relu'))\n",
    "model.add(layers.Dropout(0.5))\n",
    "model.add(layers.Dense(10, activation='softmax'))\n"
   ]
  },
  {
   "cell_type": "code",
   "execution_count": 10,
   "id": "a5d7c39a",
   "metadata": {},
   "outputs": [],
   "source": [
    "# Compile the Model:\n",
    "\n",
    "# We compile the model by specifying an optimizer (Adam), \n",
    "# a loss function (sparse_categorical_crossentropy since our labels are integers), \n",
    "# and metrics (in this case, we're monitoring accuracy).\n",
    "             \n",
    "model.compile(optimizer='adam',\n",
    "              loss='sparse_categorical_crossentropy',\n",
    "              metrics=['accuracy'])\n"
   ]
  },
  {
   "cell_type": "code",
   "execution_count": null,
   "id": "525faa9e",
   "metadata": {},
   "outputs": [
    {
     "name": "stdout",
     "output_type": "stream",
     "text": [
      "Epoch 1/10\n",
      "1563/1563 [==============================] - 1623s 1s/step - loss: 2.3042 - accuracy: 0.0995 - val_loss: 2.3026 - val_accuracy: 0.1000\n",
      "Epoch 2/10\n",
      "1563/1563 [==============================] - 1676s 1s/step - loss: 2.3028 - accuracy: 0.0989 - val_loss: 2.3027 - val_accuracy: 0.1000\n",
      "Epoch 3/10\n",
      " 638/1563 [===========>..................] - ETA: 15:54 - loss: 2.3028 - accuracy: 0.1020"
     ]
    }
   ],
   "source": [
    "# Model Training:\n",
    "\n",
    "# The model is trained using the training data. We specify the number of training epochs \n",
    "# and provide the testing data as validation data to monitor the model's performance during training.\n",
    "\n",
    "history = model.fit(train_images, train_labels, epochs=10,\n",
    "                    validation_data=(test_images, test_labels))\n"
   ]
  },
  {
   "cell_type": "code",
   "execution_count": null,
   "id": "5ef4068f",
   "metadata": {},
   "outputs": [],
   "source": [
    "# Evaluate Model:\n",
    "# After training, we evaluate the model's performance on the testing data to measure its accuracy.\n",
    "test_loss, test_acc = model.evaluate(test_images, test_labels, verbose=2)"
   ]
  },
  {
   "cell_type": "code",
   "execution_count": null,
   "id": "0460266b",
   "metadata": {},
   "outputs": [],
   "source": [
    "\n",
    "\n",
    "import matplotlib.pyplot as plt\n",
    "\n",
    "# Plot training history\n",
    "plt.plot(history.history['accuracy'], label='accuracy')\n",
    "plt.plot(history.history['val_accuracy'], label='val_accuracy')\n",
    "plt.xlabel('Epoch')\n",
    "plt.ylabel('Accuracy')\n",
    "plt.legend(loc='lower right')\n",
    "plt.show()\n",
    "\n",
    "# Print test accuracy\n",
    "print(\"\\nTest accuracy:\", test_acc)\n"
   ]
  },
  {
   "cell_type": "code",
   "execution_count": null,
   "id": "c0a762d4",
   "metadata": {},
   "outputs": [],
   "source": []
  }
 ],
 "metadata": {
  "kernelspec": {
   "display_name": "Python 3 (ipykernel)",
   "language": "python",
   "name": "python3"
  },
  "language_info": {
   "codemirror_mode": {
    "name": "ipython",
    "version": 3
   },
   "file_extension": ".py",
   "mimetype": "text/x-python",
   "name": "python",
   "nbconvert_exporter": "python",
   "pygments_lexer": "ipython3",
   "version": "3.11.3"
  }
 },
 "nbformat": 4,
 "nbformat_minor": 5
}
