{
 "cells": [
  {
   "cell_type": "code",
   "execution_count": 1,
   "id": "2aea1a7d",
   "metadata": {},
   "outputs": [],
   "source": [
    "import numpy as np\n",
    "from numpy import random"
   ]
  },
  {
   "cell_type": "code",
   "execution_count": 2,
   "id": "c9644e18",
   "metadata": {},
   "outputs": [],
   "source": [
    "myarr=np.array([0,1,2,3,4,5,6,7,8,9])\n",
    "arr= np.array([[0,1],[4,5]])"
   ]
  },
  {
   "cell_type": "code",
   "execution_count": 3,
   "id": "afb17fed",
   "metadata": {},
   "outputs": [
    {
     "name": "stdout",
     "output_type": "stream",
     "text": [
      "[0 1 2 3 4 5 6 7 8 9]\n"
     ]
    }
   ],
   "source": [
    "print(myarr)"
   ]
  },
  {
   "cell_type": "code",
   "execution_count": 4,
   "id": "287fd0e6",
   "metadata": {},
   "outputs": [
    {
     "name": "stdout",
     "output_type": "stream",
     "text": [
      "[0 1 2 3 4 5 6 7 8 9]\n"
     ]
    }
   ],
   "source": [
    "print(myarr)"
   ]
  },
  {
   "cell_type": "code",
   "execution_count": 5,
   "id": "27d24990",
   "metadata": {},
   "outputs": [
    {
     "data": {
      "text/plain": [
       "(10,)"
      ]
     },
     "execution_count": 5,
     "metadata": {},
     "output_type": "execute_result"
    }
   ],
   "source": [
    "myarr.shape"
   ]
  },
  {
   "cell_type": "code",
   "execution_count": 6,
   "id": "627de130",
   "metadata": {},
   "outputs": [
    {
     "data": {
      "text/plain": [
       "10"
      ]
     },
     "execution_count": 6,
     "metadata": {},
     "output_type": "execute_result"
    }
   ],
   "source": [
    "myarr.size"
   ]
  },
  {
   "cell_type": "code",
   "execution_count": 7,
   "id": "08d5c425",
   "metadata": {},
   "outputs": [
    {
     "data": {
      "text/plain": [
       "dtype('int32')"
      ]
     },
     "execution_count": 7,
     "metadata": {},
     "output_type": "execute_result"
    }
   ],
   "source": [
    "myarr.dtype"
   ]
  },
  {
   "cell_type": "code",
   "execution_count": 8,
   "id": "e4bf0b76",
   "metadata": {},
   "outputs": [
    {
     "name": "stdout",
     "output_type": "stream",
     "text": [
      "Maximum integer in array : 9\n",
      "Minimum integer in array : 0\n"
     ]
    }
   ],
   "source": [
    "max=np.max(myarr)\n",
    "min=np.min(myarr)\n",
    "\n",
    "print(\"Maximum integer in array :\",max)\n",
    "print(\"Minimum integer in array :\",min)"
   ]
  },
  {
   "cell_type": "code",
   "execution_count": 9,
   "id": "3d25508c",
   "metadata": {},
   "outputs": [
    {
     "name": "stdout",
     "output_type": "stream",
     "text": [
      "2198\n"
     ]
    }
   ],
   "source": [
    "x=random.randint(1000,9999)\n",
    "print(x)"
   ]
  },
  {
   "cell_type": "code",
   "execution_count": 10,
   "id": "5f760bc6",
   "metadata": {},
   "outputs": [
    {
     "name": "stdout",
     "output_type": "stream",
     "text": [
      "[[32 88 38]\n",
      " [86 75 15]\n",
      " [ 5 74 10]\n",
      " [71 52  1]\n",
      " [85 65  0]]\n"
     ]
    }
   ],
   "source": [
    "y=random.randint(100,size=(5,3))\n",
    "print(y)"
   ]
  },
  {
   "cell_type": "code",
   "execution_count": 11,
   "id": "04c96c9d",
   "metadata": {},
   "outputs": [
    {
     "name": "stdout",
     "output_type": "stream",
     "text": [
      "[[73 70]\n",
      " [88 78]\n",
      " [13 11]\n",
      " [70 20]\n",
      " [40  9]]\n"
     ]
    }
   ],
   "source": [
    "z=random.randint(100,size=(5,2))\n",
    "print(z)"
   ]
  },
  {
   "cell_type": "code",
   "execution_count": 12,
   "id": "cbdeb7d9",
   "metadata": {},
   "outputs": [
    {
     "name": "stdout",
     "output_type": "stream",
     "text": [
      "[0 1 2 3 4 5 6 7 8]\n"
     ]
    },
    {
     "data": {
      "text/plain": [
       "36"
      ]
     },
     "execution_count": 12,
     "metadata": {},
     "output_type": "execute_result"
    }
   ],
   "source": [
    "arr5=np.arange(9)\n",
    "print(arr5)\n",
    "np.sum(arr5)"
   ]
  },
  {
   "cell_type": "code",
   "execution_count": 13,
   "id": "08c28a29",
   "metadata": {},
   "outputs": [
    {
     "name": "stdout",
     "output_type": "stream",
     "text": [
      "Horizontal\n",
      "[1 2 3 4]\n",
      "Vertical:\n",
      "[[5]\n",
      " [6]\n",
      " [7]\n",
      " [8]]\n"
     ]
    }
   ],
   "source": [
    "list1=[1,2,3,4]\n",
    "list2=[[5],\n",
    "      [6],\n",
    "      [7],\n",
    "      [8]]\n",
    "\n",
    "print('Horizontal')\n",
    "print(np.array(list1))\n",
    "\n",
    "print('Vertical:')\n",
    "print(np.array(list2))"
   ]
  },
  {
   "cell_type": "markdown",
   "id": "2d4a0a44",
   "metadata": {},
   "source": [
    "# Tasks"
   ]
  },
  {
   "cell_type": "markdown",
   "id": "87337ae7",
   "metadata": {},
   "source": [
    "1.Create a Numpy array and perform basic operations (addition, subtraction, multiplication"
   ]
  },
  {
   "cell_type": "code",
   "execution_count": 14,
   "id": "ddb75469",
   "metadata": {},
   "outputs": [],
   "source": [
    "arr1=np.array([5,7,3,4,9,5,3])\n",
    "arr2=np.array([3,6,8,4,6,8,3])\n"
   ]
  },
  {
   "cell_type": "code",
   "execution_count": 15,
   "id": "963be5e9",
   "metadata": {},
   "outputs": [
    {
     "name": "stdout",
     "output_type": "stream",
     "text": [
      "[5 7 3 4 9 5 3]\n",
      "[3 6 8 4 6 8 3]\n",
      "Sum of Array 1 Integer: 36\n",
      "Sum of Array 2 Integer: 38\n",
      "Addition of arrays: [ 8 13 11  8 15 13  6]\n",
      "Substraction of arrays: [ 2  1 -5  0  3 -3  0]\n",
      "Multiplication of arrays: [15 42 24 16 54 40  9]\n"
     ]
    }
   ],
   "source": [
    "print(arr1)\n",
    "print(arr2)\n",
    "\n",
    "arr1sum=np.sum(arr1)\n",
    "arr2sum=np.sum(arr2)\n",
    "\n",
    "\n",
    "add= arr1+arr2\n",
    "\n",
    "print('Sum of Array 1 Integer:',arr1sum)\n",
    "print('Sum of Array 2 Integer:',arr2sum)\n",
    "print('Addition of arrays:',add)\n",
    "\n",
    "\n",
    "sub= arr1-arr2\n",
    "print('Substraction of arrays:',sub)\n",
    "\n",
    "mul= arr1* arr2\n",
    "print('Multiplication of arrays:',mul)"
   ]
  },
  {
   "cell_type": "markdown",
   "id": "26d5b8fd",
   "metadata": {},
   "source": [
    "2.Perform matrix multiplication, element-wise multiplication, and reshaping."
   ]
  },
  {
   "cell_type": "code",
   "execution_count": 16,
   "id": "c2adb91b",
   "metadata": {},
   "outputs": [
    {
     "name": "stdout",
     "output_type": "stream",
     "text": [
      "([0, 3, 5], [7, 9, 3], [9, 4, 23])\n",
      "([4, 5, 7], [8, 7, 3], [9, 6, 3])\n",
      "Matrix Multiplication of given matrixs:\n",
      "[[ 69  51  24]\n",
      " [127 116  85]\n",
      " [275 211 144]]\n"
     ]
    }
   ],
   "source": [
    "mat1=([0,3,5],\n",
    "     [7,9,3],\n",
    "     [9,4,23])\n",
    "mat2=([4,5,7],[8,7,3],[9,6,3])\n",
    "\n",
    "print(mat1)\n",
    "print(mat2)\n",
    "\n",
    "\n",
    "matmul=np.dot(mat1,mat2)\n",
    "\n",
    "print(\"Matrix Multiplication of given matrixs:\")\n",
    "print(matmul)"
   ]
  },
  {
   "cell_type": "code",
   "execution_count": 17,
   "id": "6e92d9d2",
   "metadata": {},
   "outputs": [
    {
     "name": "stdout",
     "output_type": "stream",
     "text": [
      "Matrix Multiplication:\n",
      "[[19 22]\n",
      " [43 50]]\n",
      "Elementwise Addition:\n",
      "[[ 6  8]\n",
      " [10 12]]\n",
      "Elementwise Multiplication:\n",
      "[[ 5 12]\n",
      " [21 32]]\n",
      "Reshaping\n",
      "[[1 2 3]\n",
      " [4 5 6]]\n"
     ]
    }
   ],
   "source": [
    "mat1 = np.array([[1, 2], [3, 4]])\n",
    "mat2 = np.array([[5, 6], [7, 8]])\n",
    "\n",
    "#Matrix Multiplication\n",
    "matmul=np.dot(mat1,mat2)\n",
    "\n",
    "#Elementwise Addition\n",
    "add=mat1+mat2\n",
    "\n",
    "#Elementwise Multiplication\n",
    "elewise=mat1*mat2\n",
    "\n",
    "#Reshaping\n",
    "original_array=np.array([1,2,3,4,5,6])\n",
    "reshaped_array=original_array.reshape(2,3)\n",
    "\n",
    "print('Matrix Multiplication:')\n",
    "print(matmul)\n",
    "print('Elementwise Addition:')      \n",
    "print(add)\n",
    "print('Elementwise Multiplication:')      \n",
    "print(elewise)\n",
    "print('Reshaping')\n",
    "print(reshaped_array)"
   ]
  },
  {
   "cell_type": "markdown",
   "id": "24a10b1a",
   "metadata": {},
   "source": [
    "implement slicing, indexing, and array manipulation techniques."
   ]
  },
  {
   "cell_type": "code",
   "execution_count": 18,
   "id": "cddac5be",
   "metadata": {},
   "outputs": [
    {
     "name": "stdout",
     "output_type": "stream",
     "text": [
      "[1, 2, 3, 4, 5, 6, 7]\n",
      "[2, 3, 4, 5]\n",
      "[5, 6]\n"
     ]
    }
   ],
   "source": [
    "#Slicing:cut the portion from array or matrix \n",
    "#1D\n",
    "arr=[1,2,3,4,5,6,7]\n",
    "print(arr)\n",
    "print(arr[1:5])\n",
    "print(arr[-3:-1])"
   ]
  },
  {
   "cell_type": "code",
   "execution_count": 19,
   "id": "9df57ef7",
   "metadata": {},
   "outputs": [
    {
     "name": "stdout",
     "output_type": "stream",
     "text": [
      "sliced_array:\n",
      "[5 6 7]\n"
     ]
    }
   ],
   "source": [
    "#2D\n",
    "myarr = np.array([[1, 2, 3, 4],[5, 6, 7, 8],[9, 10, 11, 12]])\n",
    "sliced_array = myarr[1, 0:3] \n",
    "\n",
    "print('sliced_array:')\n",
    "print(sliced_array)"
   ]
  },
  {
   "cell_type": "code",
   "execution_count": 20,
   "id": "121e97c7",
   "metadata": {},
   "outputs": [
    {
     "name": "stdout",
     "output_type": "stream",
     "text": [
      "Element at 2: [ 9 10 11 12]\n",
      "Element at 2 of 1 index: 7\n",
      "Element at 3 of 0: 4\n",
      "Element at 0 of 2: 9\n"
     ]
    }
   ],
   "source": [
    "#Indexing: search the element position in an array\n",
    "ele1=myarr[2]\n",
    "ele2=myarr[1,2]\n",
    "ele3=myarr[0,3]\n",
    "ele4=myarr[2,0]\n",
    "print('Element at 2:',ele1)\n",
    "print('Element at 2 of 1 index:',ele2)\n",
    "print('Element at 3 of 0:',ele3)\n",
    "print('Element at 0 of 2:',ele4)\n"
   ]
  },
  {
   "cell_type": "code",
   "execution_count": 21,
   "id": "754b4e10",
   "metadata": {},
   "outputs": [
    {
     "data": {
      "text/plain": [
       "array([[ 1,  2,  3,  4],\n",
       "       [ 5,  6,  7,  8],\n",
       "       [ 9, 10, 11, 12]])"
      ]
     },
     "execution_count": 21,
     "metadata": {},
     "output_type": "execute_result"
    }
   ],
   "source": [
    "myarr"
   ]
  },
  {
   "cell_type": "code",
   "execution_count": 22,
   "id": "b627f8e0",
   "metadata": {},
   "outputs": [
    {
     "name": "stdout",
     "output_type": "stream",
     "text": [
      "Flattend Array:\n",
      "[ 1  2  3  4  5  6  7  8  9 10 11 12]\n",
      "Reshaping:\n",
      "[[ 1  2]\n",
      " [ 3  4]\n",
      " [ 5  6]\n",
      " [ 7  8]\n",
      " [ 9 10]\n",
      " [11 12]]\n"
     ]
    }
   ],
   "source": [
    "# array manipulation techniques\n",
    "\n",
    "#Flattening: We use the flatten() method to transform original_array into a 1D array called flattened_array.\n",
    "flatten_array=myarr.flatten()\n",
    "\n",
    "#Reshaping: We reshape original_array into a 2x6 array called reshaped_array using the reshape() method.\n",
    "reshaping=myarr.reshape(6,2)\n",
    "\n",
    "print('Flattend Array:')\n",
    "print(flatten_array)\n",
    "print('Reshaping:')\n",
    "print(reshaping)"
   ]
  },
  {
   "cell_type": "code",
   "execution_count": null,
   "id": "a809f1f6",
   "metadata": {},
   "outputs": [],
   "source": []
  },
  {
   "cell_type": "code",
   "execution_count": null,
   "id": "2d1710da",
   "metadata": {},
   "outputs": [],
   "source": []
  }
 ],
 "metadata": {
  "kernelspec": {
   "display_name": "Python 3 (ipykernel)",
   "language": "python",
   "name": "python3"
  },
  "language_info": {
   "codemirror_mode": {
    "name": "ipython",
    "version": 3
   },
   "file_extension": ".py",
   "mimetype": "text/x-python",
   "name": "python",
   "nbconvert_exporter": "python",
   "pygments_lexer": "ipython3",
   "version": "3.11.3"
  }
 },
 "nbformat": 4,
 "nbformat_minor": 5
}
